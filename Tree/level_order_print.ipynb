{
 "cells": [
  {
   "cell_type": "markdown",
   "metadata": {},
   "source": [
    "Solution:\n",
    "1. create a deque of nodes from the tree.\n",
    "2. Start a counter that keep tracks of the current node\n",
    "   1. while the counter   \n",
    "Time complexity is linear or in order of n\n"
   ]
  },
  {
   "cell_type": "code",
   "execution_count": 1,
   "metadata": {},
   "outputs": [],
   "source": [
    "import collections\n",
    "\n",
    "class Node:\n",
    "    def __init__(self, value=None) -> None:\n",
    "        self.val = value\n",
    "        self.left = None \n",
    "        self.right = None\n",
    "\n",
    "\n",
    "\n",
    "def level_order_print(tree) -> None:\n",
    "    if not tree:\n",
    "        return\n",
    "\n",
    "    # get a deque of all nodes in the tree\n",
    "    nodes = collections.deque([tree])\n",
    "\n",
    "    current_count = 1\n",
    "    next_count = 0\n",
    "    \n",
    "    # while the deque is not empty\n",
    "    while len(nodes) != 0:\n",
    "        # we take on node from the beginning of the deque and print it.\n",
    "        current_node = nodes.popleft()\n",
    "        current_count -= 1\n",
    "\n",
    "        print(current_node.val, end=\" \") #[x] find out how to print variables on the same line in python.\n",
    "\n",
    "        # we add the children to the end of the deque and increase the next count to enable us get to these children nodes.\n",
    "        if current_node.left:\n",
    "            nodes.append(current_node.left)\n",
    "            next_count += 1\n",
    "\n",
    "        if current_node.right:\n",
    "            nodes.append(current_node.right)\n",
    "            next_count += 1\n",
    "        # we give a space between the printed nodes and then set the current count to the new count\n",
    "        if current_count == 0:\n",
    "            print(\"\\n\")\n",
    "            current_count, next_count = next_count, current_count\n",
    "\n",
    "\n",
    "\n",
    "\n"
   ]
  },
  {
   "cell_type": "code",
   "execution_count": 2,
   "metadata": {},
   "outputs": [],
   "source": [
    "root = Node(1)\n",
    "root.left = Node(2)\n",
    "root.right = Node(3)"
   ]
  },
  {
   "cell_type": "code",
   "execution_count": 3,
   "metadata": {},
   "outputs": [
    {
     "name": "stdout",
     "output_type": "stream",
     "text": [
      "1 \n",
      "\n",
      "2 3 \n",
      "\n"
     ]
    }
   ],
   "source": [
    "level_order_print(root)"
   ]
  },
  {
   "cell_type": "code",
   "execution_count": 4,
   "metadata": {},
   "outputs": [],
   "source": [
    "import collections\n",
    "from turtle import left\n",
    "\n",
    "class Node:\n",
    "    def __init__(self, value=None):\n",
    "        self.val = value\n",
    "        self.left = None\n",
    "        self.right = None\n",
    "\n",
    "def level_order_print_mine(tree):\n",
    "\n",
    "    nodes = collections.deque([tree])\n",
    "    \n",
    "    current_count = 1\n",
    "    next_count = 0\n",
    "\n",
    "    while len(nodes) != 0:\n",
    "        current_node = nodes.popleft()\n",
    "        current_count -= 1\n",
    "\n",
    "        print(current_node.val)\n",
    "\n",
    "        if current_node.left:\n",
    "            nodes.append(current_node.left)\n",
    "            next_count += 1\n",
    "\n",
    "        if current_node.right:\n",
    "            nodes.append(current_node.right)\n",
    "            next_count += 1\n",
    "\n",
    "        if current_count == 0:\n",
    "            print('\\n')\n",
    "            current_count, next_count = next_count, current_count"
   ]
  }
 ],
 "metadata": {
  "kernelspec": {
   "display_name": "Python 3.9.12 ('base')",
   "language": "python",
   "name": "python3"
  },
  "language_info": {
   "codemirror_mode": {
    "name": "ipython",
    "version": 3
   },
   "file_extension": ".py",
   "mimetype": "text/x-python",
   "name": "python",
   "nbconvert_exporter": "python",
   "pygments_lexer": "ipython3",
   "version": "3.9.12"
  },
  "orig_nbformat": 4,
  "vscode": {
   "interpreter": {
    "hash": "6cc30744784fa59e98c2446a18129d422b4ed16f8f5f16febffe27c54501bb6f"
   }
  }
 },
 "nbformat": 4,
 "nbformat_minor": 2
}
