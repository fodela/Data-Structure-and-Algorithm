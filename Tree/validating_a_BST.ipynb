{
 "cells": [
  {
   "cell_type": "markdown",
   "metadata": {},
   "source": [
    "### Solutions:\n",
    "1. Inorder traversal of the BST gives a sorted order of the values of the tree\n",
    "2. Check the BST property\n",
    "   * Keep track of the minimum and maximum values a node can take. \n",
    "   * At each node check whether its value is between the min and max values it's allowed to take. \n",
    "     * The root can take any value between negative infinity and positive in infinity.\n",
    "   * At any node `left_child.key <= self.key & right_child.key >= self.key`, its left child should be less than or equal to its own value, and its right child should be greater than or equal to its own value.\n",
    "   * So during recursion, we send the current value as the new max to our left child and the min as it is without changing. And to the right child, we send the current value as the new min and the max without changing"
   ]
  },
  {
   "cell_type": "code",
   "execution_count": 1,
   "metadata": {},
   "outputs": [
    {
     "name": "stdout",
     "output_type": "stream",
     "text": [
      "hello\n"
     ]
    }
   ],
   "source": [
    "from typing import List\n",
    "\n",
    "\n",
    "def inorder(tree, tree_values: List[int] = []) -> None:\n",
    "    if tree:\n",
    "        inorder(tree.get_left_child())\n",
    "        tree_values.append(tree.get_root_value)\n",
    "        inorder(tree.get_right_child())\n",
    "\n",
    "def validate_BST(tree)-> bool:\n",
    "    valid = False\n",
    "    tree_values = []\n",
    "    # traverse the tree 'inorder'\n",
    "    inorder(tree,tree_values)\n",
    "\n",
    "    # check validity\n",
    "    valid = tree_values == sorted(tree_values)\n",
    "    return valid\n"
   ]
  },
  {
   "cell_type": "code",
   "execution_count": null,
   "metadata": {},
   "outputs": [],
   "source": [
    "class Node:\n",
    "    def __init__(self, k:int, val:int) -> None:\n",
    "        self.key = k\n",
    "        self.value = val\n",
    "        self.left = None\n",
    "        self.right = None\n",
    "\n",
    "# get the min and max of the tree\n",
    "def tree_max(node) -> int:\n",
    "    if not node: # the root\n",
    "        return float(\"-inf\") # the max of the root is negative infinity\n",
    "    # recursively get the maximum value in each left subtree\n",
    "    max_left = tree_max(node.left)\n",
    "    # recursively get the maximum value in each right subtree\n",
    "    max_right = tree_max(node.right)\n",
    "\n",
    "    return max(node.key, max_left, max_right)\n",
    "\n",
    "def tree_min(node) -> int:\n",
    "\n",
    "    if not node: # the root\n",
    "\n",
    "        return float(\"inf\")\n",
    "    min_left = tree_min(node.left)\n",
    "    min_right = tree_min(node.right)\n",
    "\n",
    "    return min(node.key, min_left, min_right)\n",
    "\n",
    "def verify(node) -> bool:\n",
    "    if not node: # the root\n",
    "        return True\n",
    "    # check BST property\n",
    "    if (tree_max(node) >= node.key and tree_min(node) <= node.key) and verify(node.left) and verify(node.right):\n",
    "        return True\n",
    "\n",
    "    else:\n",
    "        return False"
   ]
  }
 ],
 "metadata": {
  "kernelspec": {
   "display_name": "Python 3.9.12 ('base')",
   "language": "python",
   "name": "python3"
  },
  "language_info": {
   "name": "python",
   "version": "3.9.12"
  },
  "orig_nbformat": 4,
  "vscode": {
   "interpreter": {
    "hash": "6cc30744784fa59e98c2446a18129d422b4ed16f8f5f16febffe27c54501bb6f"
   }
  }
 },
 "nbformat": 4,
 "nbformat_minor": 2
}
