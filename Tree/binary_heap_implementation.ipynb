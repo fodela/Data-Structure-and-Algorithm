{
 "cells": [
  {
   "cell_type": "markdown",
   "metadata": {},
   "source": [
    "# Binary Heap\n",
    "Has the following features:\n",
    "- BinaryHeap() \n",
    "    - intialize the heap list and the current size.\n",
    "- Insert(k)\n",
    "  - If the new item is less than the parent, switch it with the parent\n",
    "- find_min()\n",
    "- del_min()\n",
    "- is_empty()\n",
    "- size()\n",
    "- build_heap(list)\n",
    "\n",
    "We take advantage of the logarithmic nature of the tree by making it balanced (Same number of nodes in the left and right subtrees of the root). We keep the tree balance by creating a complete binary tree\n",
    "Because is a complete binary tree (each level has all of it children), we can implement it using a list.\n",
    "\n",
    "Algorithm: \n",
    "- Right child can be found a the index (2 x p), where p is the index of the parent.\n",
    "- Left child can be found a the index [(2 x p) + 1] , where p is the index of the parent."
   ]
  },
  {
   "cell_type": "code",
   "execution_count": 2,
   "metadata": {},
   "outputs": [],
   "source": [
    "class BinaryHeap():\n",
    "    def __init__(self):\n",
    "        self.heap_list = [0]\n",
    "        self.current_size = 0\n",
    "\n",
    "    # if the new item k is less than the parent, swap it until it is greater than the parent\n",
    "    def perc_up(self, i):\n",
    "        # use i // 2 to take care of both odd and even indexes.\n",
    "        while i // 2 > 0:\n",
    "            if self.heap_list[i] < self.heap_list[i // 2]:\n",
    "                tmp = self.heap_list[i // 2]\n",
    "                self.heap_list[i // 2] = self.heap_list[i]\n",
    "                self.heap_list[i] = tmp\n",
    "\n",
    "            i = i // 2\n",
    "\n",
    "    def insert(self, k):\n",
    "        self.heap_list.append(k)\n",
    "        self.current_size += 1\n",
    "        self.perc_up(self.current_size)"
   ]
  },
  {
   "cell_type": "code",
   "execution_count": null,
   "metadata": {},
   "outputs": [],
   "source": [
    "# continue"
   ]
  }
 ],
 "metadata": {
  "kernelspec": {
   "display_name": "Python 3.9.12 ('base')",
   "language": "python",
   "name": "python3"
  },
  "language_info": {
   "codemirror_mode": {
    "name": "ipython",
    "version": 3
   },
   "file_extension": ".py",
   "mimetype": "text/x-python",
   "name": "python",
   "nbconvert_exporter": "python",
   "pygments_lexer": "ipython3",
   "version": "3.9.12"
  },
  "orig_nbformat": 4,
  "vscode": {
   "interpreter": {
    "hash": "6cc30744784fa59e98c2446a18129d422b4ed16f8f5f16febffe27c54501bb6f"
   }
  }
 },
 "nbformat": 4,
 "nbformat_minor": 2
}
