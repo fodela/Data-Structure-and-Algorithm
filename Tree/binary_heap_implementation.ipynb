{
 "cells": [
  {
   "cell_type": "markdown",
   "metadata": {},
   "source": [
    "# Binary Heap\n",
    "Has the following features:\n",
    "- BinaryHeap()\n",
    "- Insert(k)\n",
    "- find_min()\n",
    "- del_min()\n",
    "- is_empty()\n",
    "- size()\n",
    "- build_heap(list)\n",
    "\n",
    "We take advantage of the logarithmic nature of the tree by making it balanced (Same number of nodes in the left and right subtrees of the root). We keep the tree balance by creating a complete binary tree\n",
    "Because is a complete binary tree (each level has all of it children), we can implement it using a list.\n",
    "\n",
    "Algorithm: \n",
    "- Right child can be found a the index (2 x p), where p is the index of the parent.\n",
    "- Left child can be found a the index [(2 x p) + 1] , where p is the index of the parent."
   ]
  },
  {
   "cell_type": "code",
   "execution_count": 1,
   "metadata": {},
   "outputs": [
    {
     "ename": "SyntaxError",
     "evalue": "invalid syntax (1102136943.py, line 1)",
     "output_type": "error",
     "traceback": [
      "\u001b[0;36m  Input \u001b[0;32mIn [1]\u001b[0;36m\u001b[0m\n\u001b[0;31m    def\u001b[0m\n\u001b[0m       ^\u001b[0m\n\u001b[0;31mSyntaxError\u001b[0m\u001b[0;31m:\u001b[0m invalid syntax\n"
     ]
    }
   ],
   "source": [
    "def"
   ]
  },
  {
   "cell_type": "code",
   "execution_count": null,
   "metadata": {},
   "outputs": [],
   "source": [
    "# continue"
   ]
  }
 ],
 "metadata": {
  "kernelspec": {
   "display_name": "Python 3.9.12 ('base')",
   "language": "python",
   "name": "python3"
  },
  "language_info": {
   "name": "python",
   "version": "3.9.12"
  },
  "orig_nbformat": 4,
  "vscode": {
   "interpreter": {
    "hash": "6cc30744784fa59e98c2446a18129d422b4ed16f8f5f16febffe27c54501bb6f"
   }
  }
 },
 "nbformat": 4,
 "nbformat_minor": 2
}
