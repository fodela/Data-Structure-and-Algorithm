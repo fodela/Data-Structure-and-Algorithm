{
 "cells": [
  {
   "cell_type": "markdown",
   "metadata": {},
   "source": [
    "# Binary Heap\n",
    "Has the following features:\n",
    "- BinaryHeap() \n",
    "    - intialize the heap list and the current size.\n",
    "\n",
    "- Insert(k)\n",
    "  - If the new item is less than the parent, switch it with the parent\n",
    "- find_min()\n",
    "\n",
    "- del_min()\n",
    "  1. Find the minimum (root) and remove it.\n",
    "  2. Restore the heap structure and heap order properties in 2 steps:\n",
    "     1. Restore the heap structure by replacing the root with the last item (new root) in the list.\n",
    "     2. Restore the heap order by pushing the new root down the tree to its proper position (perc_down)\n",
    "\n",
    "\n",
    "- is_empty()\n",
    "\n",
    "\n",
    "- size()\n",
    "\n",
    "\n",
    "- build_heap(list)\n",
    "\n",
    "We take advantage of the logarithmic nature of the tree by making it balanced (Same number of nodes in the left and right subtrees of the root). We keep the tree balance by creating a complete binary tree\n",
    "Because is a complete binary tree (each level has all of it children), we can implement it using a list.\n",
    "\n",
    "Algorithm: \n",
    "- Right child can be found a the index (2 x p), where p is the index of the parent.\n",
    "- Left child can be found a the index [(2 x p) + 1] , where p is the index of the parent."
   ]
  },
  {
   "cell_type": "code",
   "execution_count": 3,
   "metadata": {},
   "outputs": [
    {
     "ename": "IndentationError",
     "evalue": "expected an indented block (3841005708.py, line 27)",
     "output_type": "error",
     "traceback": [
      "\u001b[0;36m  Input \u001b[0;32mIn [3]\u001b[0;36m\u001b[0m\n\u001b[0;31m    \u001b[0m\n\u001b[0m    ^\u001b[0m\n\u001b[0;31mIndentationError\u001b[0m\u001b[0;31m:\u001b[0m expected an indented block\n"
     ]
    }
   ],
   "source": [
    "class BinaryHeap():\n",
    "    def __init__(self):\n",
    "        self.heap_list = [0]\n",
    "        self.current_size = 0\n",
    "\n",
    "    # if the new item k is less than the parent, swap it until it is greater than the parent. i is the index of the \n",
    "    def perc_up(self, i):\n",
    "        # The index of the parent will be index_of_child / 2. Use i // 2 (find i/2 and ignore the remainder) to take care of both odd and even indexes. \n",
    "        while i // 2 > 0:\n",
    "            # if the new item is less than it parent\n",
    "            if self.heap_list[i] < self.heap_list[i // 2]:\n",
    "                parent_item = self.heap_list[i // 2]\n",
    "                # replace the parent item with the new item\n",
    "                self.heap_list[i // 2] = self.heap_list[i]\n",
    "                self.heap_list[i] = parent_item\n",
    "\n",
    "            i = i // 2\n",
    "\n",
    "    def insert(self, k):\n",
    "        self.heap_list.append(k)\n",
    "        self.current_size += 1 # why not just use < len(heap_list) - 1 > instead of manually tracking the current_size since the index of the new item k will be len(array) - 1?\n",
    "\n",
    "        # Arrange the items in the tree according to the binary heap algorithm (min first)\n",
    "        self.perc_up(self.current_size)\n",
    "\n",
    "    def perc_down(self, i):\n",
    "        while (i * 2) <= self.current_size:\n",
    "            min_child = self.min_child(i)\n",
    "            if self.heap_list[i] > self.heap_list[min_child]:\n",
    "                parent_item = self.heap_list[i]\n",
    "                self.heap_list[i] = self.heap_list[min_child]\n",
    "                self.heap_list[min_child] = parent_item\n",
    "\n",
    "            i = min_child\n",
    "\n",
    "        def min_child(self, i):\n",
    "            if (i*2) + 1 > self.current_size:\n",
    "                return i * 2\n",
    "            else:\n",
    "                if self.heap_lislt[i*2] < self.heap_list[i * 2 + 1]:\n",
    "                    return i * 2\n",
    "                else:\n",
    "                    return i * 2 + 1\n",
    "    "
   ]
  },
  {
   "cell_type": "code",
   "execution_count": null,
   "metadata": {},
   "outputs": [],
   "source": [
    "# continue"
   ]
  }
 ],
 "metadata": {
  "kernelspec": {
   "display_name": "Python 3.9.12 ('base')",
   "language": "python",
   "name": "python3"
  },
  "language_info": {
   "codemirror_mode": {
    "name": "ipython",
    "version": 3
   },
   "file_extension": ".py",
   "mimetype": "text/x-python",
   "name": "python",
   "nbconvert_exporter": "python",
   "pygments_lexer": "ipython3",
   "version": "3.9.12"
  },
  "orig_nbformat": 4,
  "vscode": {
   "interpreter": {
    "hash": "6cc30744784fa59e98c2446a18129d422b4ed16f8f5f16febffe27c54501bb6f"
   }
  }
 },
 "nbformat": 4,
 "nbformat_minor": 2
}
