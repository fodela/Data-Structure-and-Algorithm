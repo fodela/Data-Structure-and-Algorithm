{
 "cells": [
  {
   "cell_type": "markdown",
   "metadata": {},
   "source": [
    "## Reprenting a Tree Node and References\n"
   ]
  },
  {
   "cell_type": "code",
   "execution_count": 2,
   "metadata": {},
   "outputs": [],
   "source": [
    "class BinaryTree(object):\n",
    "    \n",
    "    def __init__(self, root_obj):\n",
    "        self.key = root_obj\n",
    "        self.left_child = None\n",
    "        self.right_child = None\n",
    "\n",
    "\n",
    "    def insert_left(self, new_node):\n",
    "        # insert a left child if there is no existing left child\n",
    "        if self.left_child is None:\n",
    "            # insert the new node to the left\n",
    "            self.left_child = self.BinaryTree(new_node)\n",
    "        \n",
    "        # insert a node and push the existing child down one level in the  tree\n",
    "        else:\n",
    "            # instantiate the new node to give it the ability to have a left and a right child\n",
    "            t = self.BinaryTree(new_node)\n",
    "            # give the instantiated node a left child which is None\n",
    "            t.left_child = self.left_child\n",
    "            # Now make this instantiated node the left child\n",
    "            self.left_child = t\n",
    "     \n",
    "    def insert_right(self, new_node):\n",
    "        \n",
    "        if self.right_child is None:\n",
    "            self.right_child = self.BinaryTree(new_node)\n",
    "\n",
    "        else:\n",
    "            # ensures that we don't accidentally override anything before inserting\n",
    "            t = self.BinaryTree(new_node)\n",
    "            t.left_child = self.left_child\n",
    "            self.left_child = t\n",
    "\n",
    "    def get_right_child(self):\n",
    "        \n",
    "        return self.right_child\n",
    "\n",
    "    def get_left_child(self):\n",
    "        \n",
    "        return self.left_child\n",
    "\n",
    "    def set_root_val(self, obj):\n",
    "        \n",
    "        self.key = obj\n",
    "\n",
    "    def get_root_val(self):\n",
    "\n",
    "        return self.key\n",
    "    \n",
    "\n",
    "    "
   ]
  },
  {
   "cell_type": "code",
   "execution_count": null,
   "metadata": {},
   "outputs": [],
   "source": []
  }
 ],
 "metadata": {
  "kernelspec": {
   "display_name": "Python 3.9.12 ('base')",
   "language": "python",
   "name": "python3"
  },
  "language_info": {
   "codemirror_mode": {
    "name": "ipython",
    "version": 3
   },
   "file_extension": ".py",
   "mimetype": "text/x-python",
   "name": "python",
   "nbconvert_exporter": "python",
   "pygments_lexer": "ipython3",
   "version": "3.9.12"
  },
  "orig_nbformat": 4,
  "vscode": {
   "interpreter": {
    "hash": "6cc30744784fa59e98c2446a18129d422b4ed16f8f5f16febffe27c54501bb6f"
   }
  }
 },
 "nbformat": 4,
 "nbformat_minor": 2
}
