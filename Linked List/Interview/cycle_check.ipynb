{
 "cells": [
  {
   "cell_type": "markdown",
   "metadata": {},
   "source": [
    "### Singly Linked List Cycle Check\n",
    "#### Problem\n",
    "Given a singly linked list, write a function which takes in the first node in a singly linked list and returns a boolean indication if the linked list contains a \"cycle\".\n",
    "\n",
    "A cycle is when a node's next point actually points back to a previous node in the list. This is also sometimes known as a circularly linked list.\n",
    "\n",
    "### Solution\n",
    "We will have two markers traversing through the list. marker1 and marker2. We will have both markers begin at the first node of the list and traverse through the linked list. However the second marker, marker2, will move two nodes ahead for every one node that marker1 moves.\n",
    "By logic we can imagine that the markers are 'racing' through the linked list, with marker2 moving faster. If the linked list has a cycle and is circularly connected we will have the analogy of a track, in this case the marker2 will eventually be \"lapping\" the marker1 and they will equal each other.\n",
    "If the linked list has no cycle, then marker 2 should be able to continue on until the very end, never equaling the first marker."
   ]
  },
  {
   "cell_type": "code",
   "execution_count": 1,
   "metadata": {},
   "outputs": [],
   "source": [
    "class Node(object):\n",
    "    def __init__(self,value):\n",
    "        self.value = value\n",
    "        self.nextnode = None\n",
    "\n",
    "    \n"
   ]
  },
  {
   "cell_type": "code",
   "execution_count": 2,
   "metadata": {},
   "outputs": [],
   "source": [
    "a = Node(1)\n",
    "b = Node(2)\n",
    "c = Node(3)"
   ]
  },
  {
   "cell_type": "code",
   "execution_count": 3,
   "metadata": {},
   "outputs": [],
   "source": [
    "def cycle_check(node):\n",
    "    marker1 = node \n",
    "    marker2 = node\n",
    "    \n",
    "    # Check if marker1 has not finished (reached the tail) or the marker is about to be done\n",
    "    while marker1 != None and marker2.nextnode != None: \n",
    "        \n",
    "        #They should go round with marker2 taking 2 step faster\n",
    "        marker1 = marker1.nextnode\n",
    "        marker2 = marker1.nextnode.nextnode\n",
    "\n",
    "        if marker1 == marker2: \n",
    "            return True\n",
    "\n",
    "        # return marker1 == marker2    (mine)\n",
    "\n",
    "    else:\n",
    "        return False"
   ]
  },
  {
   "cell_type": "code",
   "execution_count": 6,
   "metadata": {},
   "outputs": [],
   "source": [
    "    \"\"\"\n",
    "    Test Cell\n",
    "    \"\"\"\n",
    "\n",
    "from nose.tools import assert_equal\n",
    "\n",
    "# Create Cycle List\n",
    "a = Node(1)\n",
    "b = Node(2)\n",
    "c = Node(3)\n",
    "\n",
    "a.nextnode = b\n",
    "b.nextnode = c\n",
    "c.nextnode = a  # cycle here\n",
    "\n",
    "x = Node(1)\n",
    "y = Node(2)\n",
    "z = Node(3)\n",
    "\n",
    "x.nextnode = y\n",
    "y.nextnode = z\n",
    "\n",
    "class TestCycleCheck(object):\n",
    "        def test(self,sol):\n",
    "            assert_equal(sol(a),True)\n",
    "            assert_equal(sol(x),False)\n",
    "\n",
    "        \n",
    "\n",
    "\n",
    "t = TestCycleCheck()\n",
    "t.test(cycle_check)\n",
    "        "
   ]
  }
 ],
 "metadata": {
  "interpreter": {
   "hash": "6cc30744784fa59e98c2446a18129d422b4ed16f8f5f16febffe27c54501bb6f"
  },
  "kernelspec": {
   "display_name": "Python 3.9.10 ('base')",
   "language": "python",
   "name": "python3"
  },
  "language_info": {
   "codemirror_mode": {
    "name": "ipython",
    "version": 3
   },
   "file_extension": ".py",
   "mimetype": "text/x-python",
   "name": "python",
   "nbconvert_exporter": "python",
   "pygments_lexer": "ipython3",
   "version": "3.9.10"
  },
  "orig_nbformat": 4
 },
 "nbformat": 4,
 "nbformat_minor": 2
}
