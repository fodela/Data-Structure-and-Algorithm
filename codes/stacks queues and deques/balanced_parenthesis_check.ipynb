{
 "cells": [
  {
   "cell_type": "markdown",
   "metadata": {},
   "source": [
    "#### Balanced Parenthesis Check\n",
    "Give a string of opening and closing parentheses, check whether it's balanced. We have 3 types of parentheses."
   ]
  },
  {
   "cell_type": "markdown",
   "metadata": {},
   "source": [
    "##### Hint use a stack\n",
    "Logic:\n",
    "1. We check from left to right and anytime we see an open parenthesis we push it to a stack\n",
    "2. When we see a closing parenthesis we check wether the last open one is the corresponding closing match by popping an element from the stack. If is valid we proceed if not we just return false.\n",
    "3. We check if the stack is empty cause if the match then the stack will be empty else false.\n",
    "\n"
   ]
  },
  {
   "cell_type": "code",
   "execution_count": 59,
   "metadata": {},
   "outputs": [],
   "source": [
    "#Solution from tutorial\n",
    "def balance_check(s):\n",
    "    # edge check\n",
    "    if len(s)%2 !=0:\n",
    "        return False\n",
    "\n",
    "    opening = set('([{')\n",
    "    # a tuple of all the matches to enable easy match check later\n",
    "    matches = set([ ('(',')'), ('[',']'), ('{','}') ])\n",
    "\n",
    "    stack = []\n",
    "\n",
    "    for paren in s:\n",
    "        # step 1 : add bracket to the stack\n",
    "        if paren in opening:\n",
    "            stack.append(paren)\n",
    "        \n",
    "        else:\n",
    "            # if the an open bracket is the first in the string then the bracket are not balanced\n",
    "            if len(stack) == 0:\n",
    "                return False\n",
    "\n",
    "            # Get the last open bracket\n",
    "            last_open = stack.pop()\n",
    "\n",
    "            #Check if the last open bracket does not matches the closed bracket \n",
    "            if (last_open,paren) not in matches:\n",
    "                return False\n",
    "\n",
    "    return len(stack) == 0 "
   ]
  },
  {
   "cell_type": "code",
   "execution_count": 54,
   "metadata": {},
   "outputs": [],
   "source": [
    "#Mine\n",
    "def balance_check_mine(s):\n",
    "\n",
    "    #edge check\n",
    "    # odd number of bracket cannot be balanced because we were told that there are no spaces nor other characters\n",
    "    if len(s)%2 != 0:\n",
    "        return False\n",
    "\n",
    "    # define some variable to keep code DRY\n",
    "    open_para = \"([{\"\n",
    "    \n",
    "    closed_para = \")]}\"\n",
    "\n",
    "    st = []\n",
    "\n",
    "    #more edge checks\n",
    "    # The string must start with an open bracket\n",
    "    if s[0] in closed_para:\n",
    "        return False\n",
    "    \n",
    "    #The string must end with a closed bracket\n",
    "    if s[-1] in open_para:\n",
    "        return False\n",
    "\n",
    "    for p in s:\n",
    "        # add open bracket to stack\n",
    "        if p in open_para:\n",
    "            st.append(p)\n",
    "\n",
    "        # check if the closed bracket correspond to the last added open bracket\n",
    "        if p in closed_para:\n",
    "            # e.g \"( == \"([{\"[0]  \n",
    "            # 0 is from \")]}\".index( \")\" )\n",
    "            if st[-1] == open_para[closed_para.index(p)]:\n",
    "                st.pop()\n",
    "    return st == []"
   ]
  },
  {
   "cell_type": "code",
   "execution_count": 60,
   "metadata": {},
   "outputs": [
    {
     "data": {
      "text/plain": [
       "False"
      ]
     },
     "execution_count": 60,
     "metadata": {},
     "output_type": "execute_result"
    }
   ],
   "source": [
    "balance_check('[{]}')"
   ]
  }
 ],
 "metadata": {
  "interpreter": {
   "hash": "6cc30744784fa59e98c2446a18129d422b4ed16f8f5f16febffe27c54501bb6f"
  },
  "kernelspec": {
   "display_name": "Python 3.9.10 ('base')",
   "language": "python",
   "name": "python3"
  },
  "language_info": {
   "codemirror_mode": {
    "name": "ipython",
    "version": 3
   },
   "file_extension": ".py",
   "mimetype": "text/x-python",
   "name": "python",
   "nbconvert_exporter": "python",
   "pygments_lexer": "ipython3",
   "version": "3.9.10"
  },
  "orig_nbformat": 4
 },
 "nbformat": 4,
 "nbformat_minor": 2
}
