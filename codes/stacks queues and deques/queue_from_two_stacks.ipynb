{
 "cells": [
  {
   "cell_type": "markdown",
   "metadata": {},
   "source": [
    "Implement a Queue class using two stacks. NB: Is a common interview problem.\n",
    "\n",
    "\n",
    "Logic:\n",
    "Say we have an instack and an outstack.\n",
    "enqueue() => just adds new elements to the instack using append\n",
    "\n",
    "dequeue() => remove an element in the reversed order of of instack\n",
    "We do this by checking if the outstack is empty then we pop all element from instack and push it to outstack. Then we pop the first element in the new list\n",
    "\n"
   ]
  },
  {
   "cell_type": "code",
   "execution_count": 12,
   "metadata": {},
   "outputs": [],
   "source": [
    "class Queue2Stacks(object):\n",
    "    def __init__(self):\n",
    "        self.instack = []\n",
    "        self.outstack = []\n",
    "\n",
    "    def enqueue(self, element):\n",
    "        self.instack.append(element)\n",
    "\n",
    "    def dequeue(self):\n",
    "\n",
    "        #check if outstack is empty\n",
    "        if not self.outstack:\n",
    "            # instack is not empty\n",
    "            while self.instack:\n",
    "                # remove all element from instack to outstack => this will reverse  the order\n",
    "                self.outstack.append(self.instack.pop())\n",
    "\n",
    "            # now remove from the reversed order\n",
    "            return self.outstack.pop()"
   ]
  },
  {
   "cell_type": "code",
   "execution_count": 15,
   "metadata": {},
   "outputs": [
    {
     "name": "stdout",
     "output_type": "stream",
     "text": [
      "0\n",
      "None\n",
      "None\n",
      "None\n",
      "None\n"
     ]
    }
   ],
   "source": [
    "q = Queue2Stacks()\n",
    "\n",
    "for i in range(5):\n",
    "    q.enqueue(i)\n",
    "\n",
    "for i in range(5):\n",
    "    print(q.dequeue())"
   ]
  },
  {
   "cell_type": "code",
   "execution_count": null,
   "metadata": {},
   "outputs": [],
   "source": []
  }
 ],
 "metadata": {
  "interpreter": {
   "hash": "6cc30744784fa59e98c2446a18129d422b4ed16f8f5f16febffe27c54501bb6f"
  },
  "kernelspec": {
   "display_name": "Python 3.9.10 ('base')",
   "language": "python",
   "name": "python3"
  },
  "language_info": {
   "codemirror_mode": {
    "name": "ipython",
    "version": 3
   },
   "file_extension": ".py",
   "mimetype": "text/x-python",
   "name": "python",
   "nbconvert_exporter": "python",
   "pygments_lexer": "ipython3",
   "version": "3.9.10"
  },
  "orig_nbformat": 4
 },
 "nbformat": 4,
 "nbformat_minor": 2
}
