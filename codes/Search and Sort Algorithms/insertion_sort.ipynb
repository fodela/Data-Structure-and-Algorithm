{
 "cells": [
  {
   "cell_type": "code",
   "execution_count": 15,
   "metadata": {},
   "outputs": [],
   "source": [
    "from typing import List\n",
    "\n",
    "def insertion_sort_asc(arr):\n",
    "    for i in range(1, len(arr)):\n",
    "\n",
    "        current_value = arr[i]\n",
    "        position = i\n",
    "\n",
    "        while position > 0 and arr[position-1] > current_value:\n",
    "            # swap\n",
    "            arr[position] = arr[position-1]\n",
    "            position -= 1\n",
    "\n",
    "        arr[position] = current_value"
   ]
  },
  {
   "cell_type": "code",
   "execution_count": 16,
   "metadata": {},
   "outputs": [],
   "source": [
    "def insertion_sort_desc(arr: List[int]) -> None:\n",
    "    \n",
    "    for i in range(1, len(arr)):\n",
    "        position = i\n",
    "        current_value = arr[i]\n",
    "\n",
    "        while position > 0 and arr[position -1] < current_value:\n",
    "            arr[position] = arr[position -1]\n",
    "            position -= 1\n",
    "\n",
    "            arr[position] = current_value\n"
   ]
  },
  {
   "cell_type": "code",
   "execution_count": 17,
   "metadata": {},
   "outputs": [
    {
     "name": "stdout",
     "output_type": "stream",
     "text": [
      "[1, 2, 3, 4, 5, 6, 7, 9, 11, 13, 23]\n",
      "[23, 13, 11, 9, 7, 6, 5, 4, 3, 2, 1]\n"
     ]
    }
   ],
   "source": [
    "arr = [4,6,3,7,5,1,9,11,23,13,2] \n",
    "insertion_sort_asc(arr)\n",
    "print(arr)\n",
    "insertion_sort_desc(arr)\n",
    "print(arr)"
   ]
  }
 ],
 "metadata": {
  "kernelspec": {
   "display_name": "Python 3.9.12 ('base')",
   "language": "python",
   "name": "python3"
  },
  "language_info": {
   "codemirror_mode": {
    "name": "ipython",
    "version": 3
   },
   "file_extension": ".py",
   "mimetype": "text/x-python",
   "name": "python",
   "nbconvert_exporter": "python",
   "pygments_lexer": "ipython3",
   "version": "3.9.12"
  },
  "orig_nbformat": 4,
  "vscode": {
   "interpreter": {
    "hash": "6cc30744784fa59e98c2446a18129d422b4ed16f8f5f16febffe27c54501bb6f"
   }
  }
 },
 "nbformat": 4,
 "nbformat_minor": 2
}
