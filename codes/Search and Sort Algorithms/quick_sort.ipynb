{
 "cells": [
  {
   "cell_type": "code",
   "execution_count": 4,
   "metadata": {},
   "outputs": [],
   "source": [
    "from typing import List\n",
    "\n",
    "\n",
    "def quick_sort_asc(arr: List[int]) -> None:\n",
    "\n",
    "    quick_sort_asc_help(arr, 0, len(arr) - 1)\n",
    "\n",
    "def quick_sort_asc_help(arr: List[int], first: int, last: int) -> None: \n",
    "    if first < last:\n",
    "\n",
    "        split_point = partition(arr, first, last)\n",
    "\n",
    "        quick_sort_asc_help(arr, first, split_point - 1)\n",
    "        quick_sort_asc_help(arr, split_point + 1, last)\n",
    "\n",
    "def partition(arr: List[int], first: int, last: int) -> int:\n",
    "    pivot_value = arr[first]\n",
    "\n",
    "    left_mark = first + 1\n",
    "    right_mark = last\n",
    "\n",
    "    done = False\n",
    "\n",
    "    while not done:\n",
    "\n",
    "        while left_mark <= right_mark and arr[left_mark] <= pivot_value:\n",
    "            left_mark += 1\n",
    "\n",
    "        while arr[right_mark] >= pivot_value and right_mark >= left_mark:\n",
    "            right_mark -= 1\n",
    "\n",
    "        if right_mark < left_mark:\n",
    "            done = True\n",
    "\n",
    "        else: \n",
    "            arr[left_mark],arr[right_mark] = arr[right_mark], arr[left_mark] \n",
    "\n",
    "    arr[first], arr[right_mark] = arr[right_mark], arr[first]\n",
    "\n",
    "    return right_mark\n"
   ]
  },
  {
   "cell_type": "code",
   "execution_count": 5,
   "metadata": {},
   "outputs": [],
   "source": [
    "def quick_sort_desc(arr: List[int]) -> None:\n",
    "\n",
    "    quick_sort_desc_help(arr, 0, len(arr) - 1)\n",
    "\n",
    "def quick_sort_desc_help(arr: List[int], first: int, last: int) -> None:\n",
    "\n",
    "    if first < last:\n",
    "        split_point = partition(arr, first, last)\n",
    "\n",
    "        quick_sort_desc_help(arr, first, split_point - 1)\n",
    "        quick_sort_desc_help(arr, split_point + 1, last)\n",
    "\n",
    "\n",
    "def partition(arr: List[int], first: int, last: int) -> int:\n",
    "    # choose a pivot, first and last marks\n",
    "    pivot_value = arr[first]\n",
    "    left_mark = first + 1\n",
    "    right_mark = last\n",
    "\n",
    "    done = False\n",
    "\n",
    "    while not done:\n",
    "        while left_mark <= right_mark and arr[left_mark] <= pivot_value:\n",
    "            left_mark += 1\n",
    "\n",
    "        while right_mark >= left_mark and arr[right_mark] >= pivot_value:\n",
    "            right_mark -= 1\n",
    "\n",
    "        if right_mark > left_mark:\n",
    "            done = True\n",
    "\n",
    "        else:\n",
    "            arr[left_mark], arr[right_mark] = arr[right_mark], arr[left_mark]\n",
    "\n",
    "    return right_mark"
   ]
  },
  {
   "cell_type": "code",
   "execution_count": 6,
   "metadata": {},
   "outputs": [
    {
     "ename": "KeyboardInterrupt",
     "evalue": "",
     "output_type": "error",
     "traceback": [
      "\u001b[0;31m---------------------------------------------------------------------------\u001b[0m",
      "\u001b[0;31mKeyboardInterrupt\u001b[0m                         Traceback (most recent call last)",
      "\u001b[1;32m/home/fodela/Documents/code/Projects/coding challenges/Python for Data Structure and algorithm/Search and Sort Algorithms/quick_sort.ipynb Cell 3\u001b[0m in \u001b[0;36m<module>\u001b[0;34m\u001b[0m\n\u001b[1;32m      <a href='vscode-notebook-cell:/home/fodela/Documents/code/Projects/coding%20challenges/Python%20for%20Data%20Structure%20and%20algorithm/Search%20and%20Sort%20Algorithms/quick_sort.ipynb#W2sZmlsZQ%3D%3D?line=0'>1</a>\u001b[0m arr \u001b[39m=\u001b[39m [\u001b[39m3\u001b[39m,\u001b[39m4\u001b[39m,\u001b[39m6\u001b[39m,\u001b[39m2\u001b[39m,\u001b[39m8\u001b[39m,\u001b[39m1\u001b[39m]\n\u001b[0;32m----> <a href='vscode-notebook-cell:/home/fodela/Documents/code/Projects/coding%20challenges/Python%20for%20Data%20Structure%20and%20algorithm/Search%20and%20Sort%20Algorithms/quick_sort.ipynb#W2sZmlsZQ%3D%3D?line=1'>2</a>\u001b[0m quick_sort_asc(arr)\n\u001b[1;32m      <a href='vscode-notebook-cell:/home/fodela/Documents/code/Projects/coding%20challenges/Python%20for%20Data%20Structure%20and%20algorithm/Search%20and%20Sort%20Algorithms/quick_sort.ipynb#W2sZmlsZQ%3D%3D?line=2'>3</a>\u001b[0m \u001b[39mprint\u001b[39m(arr)\n\u001b[1;32m      <a href='vscode-notebook-cell:/home/fodela/Documents/code/Projects/coding%20challenges/Python%20for%20Data%20Structure%20and%20algorithm/Search%20and%20Sort%20Algorithms/quick_sort.ipynb#W2sZmlsZQ%3D%3D?line=3'>4</a>\u001b[0m quick_sort_desc(arr)\n",
      "\u001b[1;32m/home/fodela/Documents/code/Projects/coding challenges/Python for Data Structure and algorithm/Search and Sort Algorithms/quick_sort.ipynb Cell 3\u001b[0m in \u001b[0;36mquick_sort_asc\u001b[0;34m(arr)\u001b[0m\n\u001b[1;32m      <a href='vscode-notebook-cell:/home/fodela/Documents/code/Projects/coding%20challenges/Python%20for%20Data%20Structure%20and%20algorithm/Search%20and%20Sort%20Algorithms/quick_sort.ipynb#W2sZmlsZQ%3D%3D?line=3'>4</a>\u001b[0m \u001b[39mdef\u001b[39;00m \u001b[39mquick_sort_asc\u001b[39m(arr: List[\u001b[39mint\u001b[39m]) \u001b[39m-\u001b[39m\u001b[39m>\u001b[39m \u001b[39mNone\u001b[39;00m:\n\u001b[0;32m----> <a href='vscode-notebook-cell:/home/fodela/Documents/code/Projects/coding%20challenges/Python%20for%20Data%20Structure%20and%20algorithm/Search%20and%20Sort%20Algorithms/quick_sort.ipynb#W2sZmlsZQ%3D%3D?line=5'>6</a>\u001b[0m     quick_sort_asc_help(arr, \u001b[39m0\u001b[39;49m, \u001b[39mlen\u001b[39;49m(arr) \u001b[39m-\u001b[39;49m \u001b[39m1\u001b[39;49m)\n",
      "\u001b[1;32m/home/fodela/Documents/code/Projects/coding challenges/Python for Data Structure and algorithm/Search and Sort Algorithms/quick_sort.ipynb Cell 3\u001b[0m in \u001b[0;36mquick_sort_asc_help\u001b[0;34m(arr, first, last)\u001b[0m\n\u001b[1;32m      <a href='vscode-notebook-cell:/home/fodela/Documents/code/Projects/coding%20challenges/Python%20for%20Data%20Structure%20and%20algorithm/Search%20and%20Sort%20Algorithms/quick_sort.ipynb#W2sZmlsZQ%3D%3D?line=8'>9</a>\u001b[0m \u001b[39mif\u001b[39;00m first \u001b[39m<\u001b[39m last:\n\u001b[1;32m     <a href='vscode-notebook-cell:/home/fodela/Documents/code/Projects/coding%20challenges/Python%20for%20Data%20Structure%20and%20algorithm/Search%20and%20Sort%20Algorithms/quick_sort.ipynb#W2sZmlsZQ%3D%3D?line=10'>11</a>\u001b[0m     split_point \u001b[39m=\u001b[39m partition(arr, first, last)\n\u001b[0;32m---> <a href='vscode-notebook-cell:/home/fodela/Documents/code/Projects/coding%20challenges/Python%20for%20Data%20Structure%20and%20algorithm/Search%20and%20Sort%20Algorithms/quick_sort.ipynb#W2sZmlsZQ%3D%3D?line=12'>13</a>\u001b[0m     quick_sort_asc_help(arr, first, split_point \u001b[39m-\u001b[39;49m \u001b[39m1\u001b[39;49m)\n\u001b[1;32m     <a href='vscode-notebook-cell:/home/fodela/Documents/code/Projects/coding%20challenges/Python%20for%20Data%20Structure%20and%20algorithm/Search%20and%20Sort%20Algorithms/quick_sort.ipynb#W2sZmlsZQ%3D%3D?line=13'>14</a>\u001b[0m     quick_sort_asc_help(arr, split_point \u001b[39m+\u001b[39m \u001b[39m1\u001b[39m, last)\n",
      "\u001b[1;32m/home/fodela/Documents/code/Projects/coding challenges/Python for Data Structure and algorithm/Search and Sort Algorithms/quick_sort.ipynb Cell 3\u001b[0m in \u001b[0;36mquick_sort_asc_help\u001b[0;34m(arr, first, last)\u001b[0m\n\u001b[1;32m      <a href='vscode-notebook-cell:/home/fodela/Documents/code/Projects/coding%20challenges/Python%20for%20Data%20Structure%20and%20algorithm/Search%20and%20Sort%20Algorithms/quick_sort.ipynb#W2sZmlsZQ%3D%3D?line=8'>9</a>\u001b[0m \u001b[39mif\u001b[39;00m first \u001b[39m<\u001b[39m last:\n\u001b[1;32m     <a href='vscode-notebook-cell:/home/fodela/Documents/code/Projects/coding%20challenges/Python%20for%20Data%20Structure%20and%20algorithm/Search%20and%20Sort%20Algorithms/quick_sort.ipynb#W2sZmlsZQ%3D%3D?line=10'>11</a>\u001b[0m     split_point \u001b[39m=\u001b[39m partition(arr, first, last)\n\u001b[0;32m---> <a href='vscode-notebook-cell:/home/fodela/Documents/code/Projects/coding%20challenges/Python%20for%20Data%20Structure%20and%20algorithm/Search%20and%20Sort%20Algorithms/quick_sort.ipynb#W2sZmlsZQ%3D%3D?line=12'>13</a>\u001b[0m     quick_sort_asc_help(arr, first, split_point \u001b[39m-\u001b[39;49m \u001b[39m1\u001b[39;49m)\n\u001b[1;32m     <a href='vscode-notebook-cell:/home/fodela/Documents/code/Projects/coding%20challenges/Python%20for%20Data%20Structure%20and%20algorithm/Search%20and%20Sort%20Algorithms/quick_sort.ipynb#W2sZmlsZQ%3D%3D?line=13'>14</a>\u001b[0m     quick_sort_asc_help(arr, split_point \u001b[39m+\u001b[39m \u001b[39m1\u001b[39m, last)\n",
      "\u001b[1;32m/home/fodela/Documents/code/Projects/coding challenges/Python for Data Structure and algorithm/Search and Sort Algorithms/quick_sort.ipynb Cell 3\u001b[0m in \u001b[0;36mquick_sort_asc_help\u001b[0;34m(arr, first, last)\u001b[0m\n\u001b[1;32m      <a href='vscode-notebook-cell:/home/fodela/Documents/code/Projects/coding%20challenges/Python%20for%20Data%20Structure%20and%20algorithm/Search%20and%20Sort%20Algorithms/quick_sort.ipynb#W2sZmlsZQ%3D%3D?line=7'>8</a>\u001b[0m \u001b[39mdef\u001b[39;00m \u001b[39mquick_sort_asc_help\u001b[39m(arr: List[\u001b[39mint\u001b[39m], first: \u001b[39mint\u001b[39m, last: \u001b[39mint\u001b[39m) \u001b[39m-\u001b[39m\u001b[39m>\u001b[39m \u001b[39mNone\u001b[39;00m: \n\u001b[1;32m      <a href='vscode-notebook-cell:/home/fodela/Documents/code/Projects/coding%20challenges/Python%20for%20Data%20Structure%20and%20algorithm/Search%20and%20Sort%20Algorithms/quick_sort.ipynb#W2sZmlsZQ%3D%3D?line=8'>9</a>\u001b[0m     \u001b[39mif\u001b[39;00m first \u001b[39m<\u001b[39m last:\n\u001b[0;32m---> <a href='vscode-notebook-cell:/home/fodela/Documents/code/Projects/coding%20challenges/Python%20for%20Data%20Structure%20and%20algorithm/Search%20and%20Sort%20Algorithms/quick_sort.ipynb#W2sZmlsZQ%3D%3D?line=10'>11</a>\u001b[0m         split_point \u001b[39m=\u001b[39m partition(arr, first, last)\n\u001b[1;32m     <a href='vscode-notebook-cell:/home/fodela/Documents/code/Projects/coding%20challenges/Python%20for%20Data%20Structure%20and%20algorithm/Search%20and%20Sort%20Algorithms/quick_sort.ipynb#W2sZmlsZQ%3D%3D?line=12'>13</a>\u001b[0m         quick_sort_asc_help(arr, first, split_point \u001b[39m-\u001b[39m \u001b[39m1\u001b[39m)\n\u001b[1;32m     <a href='vscode-notebook-cell:/home/fodela/Documents/code/Projects/coding%20challenges/Python%20for%20Data%20Structure%20and%20algorithm/Search%20and%20Sort%20Algorithms/quick_sort.ipynb#W2sZmlsZQ%3D%3D?line=13'>14</a>\u001b[0m         quick_sort_asc_help(arr, split_point \u001b[39m+\u001b[39m \u001b[39m1\u001b[39m, last)\n",
      "\u001b[1;32m/home/fodela/Documents/code/Projects/coding challenges/Python for Data Structure and algorithm/Search and Sort Algorithms/quick_sort.ipynb Cell 3\u001b[0m in \u001b[0;36mpartition\u001b[0;34m(arr, first, last)\u001b[0m\n\u001b[1;32m     <a href='vscode-notebook-cell:/home/fodela/Documents/code/Projects/coding%20challenges/Python%20for%20Data%20Structure%20and%20algorithm/Search%20and%20Sort%20Algorithms/quick_sort.ipynb#W2sZmlsZQ%3D%3D?line=25'>26</a>\u001b[0m \u001b[39mwhile\u001b[39;00m right_mark \u001b[39m>\u001b[39m\u001b[39m=\u001b[39m left_mark \u001b[39mand\u001b[39;00m arr[right_mark] \u001b[39m>\u001b[39m\u001b[39m=\u001b[39m pivot_value:\n\u001b[1;32m     <a href='vscode-notebook-cell:/home/fodela/Documents/code/Projects/coding%20challenges/Python%20for%20Data%20Structure%20and%20algorithm/Search%20and%20Sort%20Algorithms/quick_sort.ipynb#W2sZmlsZQ%3D%3D?line=26'>27</a>\u001b[0m     right_mark \u001b[39m-\u001b[39m\u001b[39m=\u001b[39m \u001b[39m1\u001b[39m\n\u001b[0;32m---> <a href='vscode-notebook-cell:/home/fodela/Documents/code/Projects/coding%20challenges/Python%20for%20Data%20Structure%20and%20algorithm/Search%20and%20Sort%20Algorithms/quick_sort.ipynb#W2sZmlsZQ%3D%3D?line=28'>29</a>\u001b[0m \u001b[39mif\u001b[39;00m right_mark \u001b[39m>\u001b[39;49m left_mark:\n\u001b[1;32m     <a href='vscode-notebook-cell:/home/fodela/Documents/code/Projects/coding%20challenges/Python%20for%20Data%20Structure%20and%20algorithm/Search%20and%20Sort%20Algorithms/quick_sort.ipynb#W2sZmlsZQ%3D%3D?line=29'>30</a>\u001b[0m     done \u001b[39m=\u001b[39m \u001b[39mTrue\u001b[39;00m\n\u001b[1;32m     <a href='vscode-notebook-cell:/home/fodela/Documents/code/Projects/coding%20challenges/Python%20for%20Data%20Structure%20and%20algorithm/Search%20and%20Sort%20Algorithms/quick_sort.ipynb#W2sZmlsZQ%3D%3D?line=31'>32</a>\u001b[0m \u001b[39melse\u001b[39;00m:\n",
      "\u001b[0;31mKeyboardInterrupt\u001b[0m: "
     ]
    }
   ],
   "source": [
    "arr = [3,4,6,2,8,1]\n",
    "quick_sort_asc(arr)\n",
    "print(arr)\n",
    "quick_sort_desc(arr)\n",
    "print(arr)"
   ]
  }
 ],
 "metadata": {
  "kernelspec": {
   "display_name": "Python 3.9.12 ('base')",
   "language": "python",
   "name": "python3"
  },
  "language_info": {
   "codemirror_mode": {
    "name": "ipython",
    "version": 3
   },
   "file_extension": ".py",
   "mimetype": "text/x-python",
   "name": "python",
   "nbconvert_exporter": "python",
   "pygments_lexer": "ipython3",
   "version": "3.9.12"
  },
  "orig_nbformat": 4,
  "vscode": {
   "interpreter": {
    "hash": "6cc30744784fa59e98c2446a18129d422b4ed16f8f5f16febffe27c54501bb6f"
   }
  }
 },
 "nbformat": 4,
 "nbformat_minor": 2
}
