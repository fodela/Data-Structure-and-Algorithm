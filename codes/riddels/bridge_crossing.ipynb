{
 "cells": [
  {
   "cell_type": "markdown",
   "metadata": {},
   "source": [
    "### Bridge crossing problem\n",
    "#### Problem\n",
    "A group of four travelers comes to a bridge at night. The bridge can hold the weight of at most only two of the travelers at a time, and it can not be crossed without using a flashlight.\n",
    "The travelers have one flashlight among them. Each traveler walks at a different speed: The first can cross the bridge in 1 minute, the second in 2 minutes, the third in 5 minutes and the fourth takes 10 minutes to cross the bridge. If two travelers cross together, they walk at the speed of the slower traveler. \n",
    "What is the least amount of time in which all the travelers can cross from one side of the bridge to the other?\n"
   ]
  },
  {
   "cell_type": "markdown",
   "metadata": {},
   "source": [
    "#### Solution\n",
    "| Move |Time|\n",
    "|:---:|:---:|\n",
    "|1 & 2 cross with torch | 2|\n",
    "|1 return with torch|\n",
    "|5 & 10 cross with torch | 10|\n",
    "|2 return with torch|\n",
    "|1 & 2 cross with torch | 2|\n",
    "| | 17|\n"
   ]
  }
 ],
 "metadata": {
  "language_info": {
   "name": "python"
  },
  "orig_nbformat": 4
 },
 "nbformat": 4,
 "nbformat_minor": 2
}
