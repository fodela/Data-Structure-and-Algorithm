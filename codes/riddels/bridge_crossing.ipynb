{
 "cells": [
  {
   "cell_type": "markdown",
   "metadata": {},
   "source": [
    "### Bridge crossing problem\n",
    "River crossing problem\n",
    "| Move |Time|\n",
    "|:---:|:---:|\n",
    "|1 & 2 cross with torch | 2|\n",
    "|1 return with torch|\n",
    "|5 & 10 cross with torch | 10|\n",
    "|2 return with torch|\n",
    "|1 & 2 cross with torch | 2|\n",
    "| | 17|\n"
   ]
  }
 ],
 "metadata": {
  "language_info": {
   "name": "python"
  },
  "orig_nbformat": 4
 },
 "nbformat": 4,
 "nbformat_minor": 2
}
