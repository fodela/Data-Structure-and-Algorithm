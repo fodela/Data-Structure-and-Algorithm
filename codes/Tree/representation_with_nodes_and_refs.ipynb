{
 "cells": [
  {
   "cell_type": "markdown",
   "metadata": {},
   "source": [
    "## Reprenting a Tree Node and References\n"
   ]
  },
  {
   "cell_type": "code",
   "execution_count": 16,
   "metadata": {},
   "outputs": [],
   "source": [
    "class BinaryTree(object):\n",
    "    \n",
    "    def __init__(self, root_obj):\n",
    "        self.key = root_obj\n",
    "        self.left_child = None\n",
    "        self.right_child = None\n",
    "\n",
    "\n",
    "    def insert_left(self, new_node):\n",
    "        # insert a left child if there is no existing left child\n",
    "        if self.left_child is None:\n",
    "            # insert the new node to the left\n",
    "            self.left_child = BinaryTree(new_node)\n",
    "        \n",
    "        # insert a node and push the existing child down one level in the  tree\n",
    "        else:\n",
    "            # instantiate the new node to give it the ability to have a left and a right child\n",
    "            t = BinaryTree(new_node)\n",
    "            # give the instantiated node a left child which is None\n",
    "            t.left_child = self.left_child\n",
    "            # Now make this instantiated node the left child\n",
    "            self.left_child = t\n",
    "     \n",
    "    def insert_right(self, new_node):\n",
    "        \n",
    "        if self.right_child is None:\n",
    "            self.right_child = BinaryTree(new_node)\n",
    "\n",
    "        else:\n",
    "            # ensures that we don't accidentally override anything before inserting\n",
    "            t = BinaryTree(new_node)\n",
    "            t.left_child = self.left_child\n",
    "            self.left_child = t\n",
    "\n",
    "    def get_right_child(self):\n",
    "        \n",
    "        return self.right_child\n",
    "\n",
    "    def get_left_child(self):\n",
    "        \n",
    "        return self.left_child\n",
    "\n",
    "    def set_root_val(self, obj):\n",
    "        \n",
    "        self.key = obj\n",
    "\n",
    "    def get_root_val(self):\n",
    "\n",
    "        return self.key\n",
    "\n",
    "    # # as a method of the class is better to implement it outside the class\n",
    "    # def preorder(self):\n",
    "    #     print(self.key)\n",
    "    #     if self.left_child:\n",
    "    #         self.left_child.preorder()\n",
    "\n",
    "    #     if self.right_child:\n",
    "    #         self.right_child.preorder()\n",
    "    \n",
    "    def inorder(self):\n",
    "        if self.left_child:\n",
    "            self.left_child.inorder()\n",
    "\n",
    "        print(self.key)\n",
    "        \n",
    "        if self.right_child:\n",
    "            self.right_child.inorder()\n",
    "\n",
    "\n",
    "    def postorder(self):\n",
    "        if self.left_child:\n",
    "            self.left_child.postorder()\n",
    "        \n",
    "        if self.right_child:\n",
    "            self.right_child.postorder()\n",
    "        \n",
    "        print(self.key)\n"
   ]
  },
  {
   "cell_type": "code",
   "execution_count": 17,
   "metadata": {},
   "outputs": [],
   "source": [
    "r = BinaryTree(\"a\")"
   ]
  },
  {
   "cell_type": "code",
   "execution_count": 18,
   "metadata": {},
   "outputs": [
    {
     "data": {
      "text/plain": [
       "'a'"
      ]
     },
     "execution_count": 18,
     "metadata": {},
     "output_type": "execute_result"
    }
   ],
   "source": [
    "r.get_root_val()"
   ]
  },
  {
   "cell_type": "code",
   "execution_count": 19,
   "metadata": {},
   "outputs": [
    {
     "name": "stdout",
     "output_type": "stream",
     "text": [
      "None\n"
     ]
    }
   ],
   "source": [
    "print(r.get_left_child())"
   ]
  },
  {
   "cell_type": "code",
   "execution_count": 20,
   "metadata": {},
   "outputs": [],
   "source": [
    "r.insert_left(\"b\")"
   ]
  },
  {
   "cell_type": "code",
   "execution_count": 21,
   "metadata": {},
   "outputs": [
    {
     "data": {
      "text/plain": [
       "'b'"
      ]
     },
     "execution_count": 21,
     "metadata": {},
     "output_type": "execute_result"
    }
   ],
   "source": [
    "r.get_left_child().get_root_val()"
   ]
  },
  {
   "cell_type": "code",
   "execution_count": 23,
   "metadata": {},
   "outputs": [],
   "source": [
    "def preorder(tree):\n",
    "\n",
    "    if tree:\n",
    "        print(tree.get_root_val)\n",
    "        preorder(tree.get_left_child())\n",
    "        preorder(tree.get_right_child())"
   ]
  },
  {
   "cell_type": "code",
   "execution_count": 25,
   "metadata": {},
   "outputs": [],
   "source": [
    "def inorder(tree):\n",
    "    if tree:\n",
    "        inorder(tree.get_left_child())\n",
    "    \n",
    "        print(tree.get_key_root_val())\n",
    "\n",
    "        inorder(tree.get_right_child())\n"
   ]
  },
  {
   "cell_type": "code",
   "execution_count": null,
   "metadata": {},
   "outputs": [],
   "source": [
    "def postorder(tree):\n",
    "    if tree: \n",
    "        postorder(tree.get_left_child())\n",
    "        \n",
    "        postorder(tree.get_right_child())\n",
    "\n",
    "        print(tree.get_root_val())"
   ]
  }
 ],
 "metadata": {
  "kernelspec": {
   "display_name": "Python 3.9.12 ('base')",
   "language": "python",
   "name": "python3"
  },
  "language_info": {
   "codemirror_mode": {
    "name": "ipython",
    "version": 3
   },
   "file_extension": ".py",
   "mimetype": "text/x-python",
   "name": "python",
   "nbconvert_exporter": "python",
   "pygments_lexer": "ipython3",
   "version": "3.9.12"
  },
  "orig_nbformat": 4,
  "vscode": {
   "interpreter": {
    "hash": "6cc30744784fa59e98c2446a18129d422b4ed16f8f5f16febffe27c54501bb6f"
   }
  }
 },
 "nbformat": 4,
 "nbformat_minor": 2
}
