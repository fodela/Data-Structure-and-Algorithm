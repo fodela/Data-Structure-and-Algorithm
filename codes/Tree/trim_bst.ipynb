{
 "cells": [
  {
   "cell_type": "markdown",
   "metadata": {},
   "source": [
    "Solution:\n",
    "1. Do a postorder traversal of tree (Traverse leaf to root)."
   ]
  },
  {
   "cell_type": "code",
   "execution_count": null,
   "metadata": {},
   "outputs": [],
   "source": [
    "\n",
    "\n",
    "class Node:\n",
    "    def __init__(self, value) -> None:\n",
    "        self.val = value\n",
    "        self.left = None\n",
    "        self.right = None\n",
    "\n",
    "def trim_BST(tree, min_val, max_val):\n",
    "    # Base check\n",
    "    if not tree:\n",
    "        return\n",
    "\n",
    "    # Recursively postorder traverse the tree\n",
    "\n",
    "    tree.left = trim_BST(tree.left)\n",
    "    tree.right = trim_BST(tree.right)\n",
    "\n",
    "    # Condition check\n",
    "    if min_val <= tree.val <= max_val:\n",
    "        return tree\n",
    "\n",
    "    if tree.val < min_val:\n",
    "        return tree.right\n",
    "\n",
    "    if tree.val > max_val:\n",
    "        return tree.left\n",
    "\n",
    "        "
   ]
  },
  {
   "cell_type": "code",
   "execution_count": null,
   "metadata": {},
   "outputs": [],
   "source": []
  }
 ],
 "metadata": {
  "kernelspec": {
   "display_name": "Python 3.7.3 64-bit",
   "language": "python",
   "name": "python3"
  },
  "language_info": {
   "name": "python",
   "version": "3.7.3"
  },
  "orig_nbformat": 4,
  "vscode": {
   "interpreter": {
    "hash": "31f2aee4e71d21fbe5cf8b01ff0e069b9275f58929596ceb00d14d90e3e16cd6"
   }
  }
 },
 "nbformat": 4,
 "nbformat_minor": 2
}
