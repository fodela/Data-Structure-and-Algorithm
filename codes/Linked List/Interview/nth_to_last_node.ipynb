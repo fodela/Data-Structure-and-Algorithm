{
 "cells": [
  {
   "cell_type": "markdown",
   "metadata": {},
   "source": [
    "### Linked List Nth to Last Node\n",
    "\n",
    "#### Problem:\n",
    "Write a function that takes a head node and an integer value n and then returns the nth to last node in the linked list.\n",
    "\n",
    "#### Solution:\n",
    "Imagine you have a bunch of nodes and a \"block\" which is n-nodes wide. We could walk this \"block\" all the way down the list, and once the front of the block reached the end, then the other end of the block would be a the nth node.\n",
    "So to implement this \"block\" we would just have two pointers a left and right pair of pointers. \n",
    "Step:\n",
    "1. Walk one pointer n nodes from the head, this will be the left_point\n",
    "2. Put the other pointer at the head, this will be the left_point\n",
    "3. Walk or traverse the block (both pointers) towards the tail, one node at a time, keeping distance n between them.\n",
    "4. Once the right_point has hit the tail, we know that the left point is at the target."
   ]
  },
  {
   "cell_type": "code",
   "execution_count": 1,
   "metadata": {},
   "outputs": [],
   "source": [
    "class Node(object):\n",
    "    def __init__(self,value):\n",
    "        self.value = value\n",
    "        self.nextnode = None"
   ]
  },
  {
   "cell_type": "code",
   "execution_count": 8,
   "metadata": {},
   "outputs": [],
   "source": [
    "def nth_to_last(n, head):\n",
    "    '''\n",
    "    how logic looks like\n",
    "\n",
    "    list = 12345\n",
    "    head = 1\n",
    "    left_pointer = 1\n",
    "    right_pointer = 1\n",
    "    n = 2\n",
    "    edge check\n",
    "        for i in range(1)\n",
    "            if 1.nextnode = None = lastnode\n",
    "                raise error that says n is larger than the linked list\n",
    "    \n",
    "    while right_pointer is not equal to none\n",
    "        left_pointer = left_pointer.nextnode => 1.nextnode = 2\n",
    "            \n",
    "        right_pointer = right_pointer.nextnode => 1.nextnode = 2\n",
    "\n",
    "            lp = 2\n",
    "            rp = 2\n",
    "            lp = 3\n",
    "            rp = 3\n",
    "            lp = 4\n",
    "            rp = 4\n",
    "            lp = 5\n",
    "            rp = 5\n",
    "\n",
    "\n",
    "    '''\n",
    "    # declare left and right pointer both from the head\n",
    "    left_pointer = head    # lp = 1\n",
    "    right_pointer = head   # rp = 1\n",
    "\n",
    "    \n",
    "    # check edge case\n",
    "    for i in range(n-1): # we will loop n number of time through our list \n",
    "\n",
    "        \n",
    "        if not right_pointer.nextnode:\n",
    "            raise LookupError('Error: n is larger than the linked list')\n",
    "    \n",
    "    while right_pointer.nextnode:\n",
    "        left_pointer = left_pointer.nextnode\n",
    "        right_pointer = right_pointer.nextnode\n",
    "\n",
    "    print(left_pointer)\n",
    "    return left_pointer"
   ]
  },
  {
   "cell_type": "markdown",
   "metadata": {},
   "source": []
  },
  {
   "cell_type": "code",
   "execution_count": 9,
   "metadata": {},
   "outputs": [],
   "source": [
    "a = Node(1)\n",
    "b = Node(2)\n",
    "c = Node(3)\n",
    "d = Node(4)\n",
    "e = Node(5)\n",
    "\n",
    "a.nextnode = b\n",
    "b.nextnode = c\n",
    "c.nextnode = d\n",
    "d.nextnode = e"
   ]
  },
  {
   "cell_type": "code",
   "execution_count": null,
   "metadata": {},
   "outputs": [],
   "source": []
  }
 ],
 "metadata": {
  "interpreter": {
   "hash": "6cc30744784fa59e98c2446a18129d422b4ed16f8f5f16febffe27c54501bb6f"
  },
  "kernelspec": {
   "display_name": "Python 3.9.10 ('base')",
   "language": "python",
   "name": "python3"
  },
  "language_info": {
   "codemirror_mode": {
    "name": "ipython",
    "version": 3
   },
   "file_extension": ".py",
   "mimetype": "text/x-python",
   "name": "python",
   "nbconvert_exporter": "python",
   "pygments_lexer": "ipython3",
   "version": "3.9.10"
  },
  "orig_nbformat": 4
 },
 "nbformat": 4,
 "nbformat_minor": 2
}
