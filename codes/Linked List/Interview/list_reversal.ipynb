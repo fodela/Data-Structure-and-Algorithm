{
 "cells": [
  {
   "cell_type": "markdown",
   "metadata": {},
   "source": [
    "### Linked List Reversal\n",
    "\n",
    "#### Problem:\n",
    "Write a function to reverse a Linked List in place. The function will take in the head of the list as input and return the new head of the list\n",
    "\n",
    "#### Solution:\n",
    "Since we want to do this in place we want to make the function operate in O(1) space, meaning we don't want to create a new list, so we will simply use the current nodes! Time wise, we can perform the reversal in O(n) time.\n",
    "\n",
    "We can reverse the list by changing the next pointer of each node. Each node's next pointer should point to the previous node.\n",
    "\n",
    "In one pass from head to tail of our input list, we point each nodes'next pointer to the previous element\n",
    "\n",
    "Make sure to copy current.next_node into next_node before setting current.next_node to previous."
   ]
  },
  {
   "cell_type": "code",
   "execution_count": 1,
   "metadata": {},
   "outputs": [],
   "source": [
    "class Node(object):\n",
    "\n",
    "    def __init__(self,value):\n",
    "        self.value = value\n",
    "        self.nextnode = None\n",
    "\n"
   ]
  },
  {
   "cell_type": "code",
   "execution_count": 8,
   "metadata": {},
   "outputs": [],
   "source": [
    "def reverse_list(head):\n",
    "    \"\"\"\n",
    "        Logic layout \n",
    "\n",
    "        1,2,3,None\n",
    "        nextnode = 2\n",
    "        2.nextnode = None\n",
    "        previous = 1\n",
    "        current = 2\n",
    "\n",
    "        nextnode = current.nextnode = 2.nextnode = 3\n",
    "        3.nextnode = previous = 1\n",
    "        previous = 2\n",
    "        current = 3\n",
    "    \"\"\"\n",
    "    \n",
    "    current = head\n",
    "    nextnode = None\n",
    "    previous = None\n",
    "\n",
    "    #Ensure we are not at the end of the list. If we were current = None\n",
    "    while current:\n",
    "        #actually set our nextnode to be the next in the list\n",
    "        nextnode = current.nextnode\n",
    "        \n",
    "        # reversing the list by setting the next node to be the previous node instead\n",
    "        current.nextnode = previous\n",
    "\n",
    "        # \n",
    "        previous = current\n",
    "        current = nextnode\n",
    "    return previous\n",
    "\n",
    "\n"
   ]
  },
  {
   "cell_type": "code",
   "execution_count": null,
   "metadata": {},
   "outputs": [],
   "source": []
  }
 ],
 "metadata": {
  "interpreter": {
   "hash": "6cc30744784fa59e98c2446a18129d422b4ed16f8f5f16febffe27c54501bb6f"
  },
  "kernelspec": {
   "display_name": "Python 3.9.10 ('base')",
   "language": "python",
   "name": "python3"
  },
  "language_info": {
   "codemirror_mode": {
    "name": "ipython",
    "version": 3
   },
   "file_extension": ".py",
   "mimetype": "text/x-python",
   "name": "python",
   "nbconvert_exporter": "python",
   "pygments_lexer": "ipython3",
   "version": "3.9.10"
  },
  "orig_nbformat": 4
 },
 "nbformat": 4,
 "nbformat_minor": 2
}
