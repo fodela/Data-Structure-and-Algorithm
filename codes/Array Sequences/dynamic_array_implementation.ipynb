{
 "cells": [
  {
   "cell_type": "markdown",
   "metadata": {},
   "source": [
    "Dynamic Array implementation"
   ]
  },
  {
   "cell_type": "markdown",
   "metadata": {},
   "source": [
    "import ctypes\n",
    "\n",
    "declare the dynamic array class inheriting from object\n",
    "\n",
    "    initialize the variables\n",
    "        declare variables n and capacity\n",
    "\n",
    "        declare array A using the make_array method\n",
    "\n",
    "    define the len method\n",
    "\n",
    "    def get_item method\n",
    "\n",
    "    def the append method\n",
    "        double the capacity if needed\n",
    "\n",
    "        add the new element\n",
    "\n",
    "    def resize the method\n",
    "        declare B using make_array with an argument new_capacity\n",
    "\n",
    "        Pass all element in A into B using a for loop\n",
    "\n",
    "        Now make A = B\n",
    "\n",
    "        reset capacity to new new_capacity\n",
    "\n",
    "    def make_array using the ctypes library we imported\n",
    "        return (new_capacity x ctypes.py_object)()"
   ]
  },
  {
   "cell_type": "code",
   "execution_count": 1,
   "metadata": {},
   "outputs": [],
   "source": [
    "import ctypes\n",
    "\n",
    "# declare the dynamic array class inheriting from object\n",
    "class DynamicArray(object):\n",
    "    # initialize the variables\n",
    "    def __init__(self):\n",
    "        # declare variables n and capacity\n",
    "        self.n = 0\n",
    "        self.capacity = 1\n",
    "        # declare array A using the make_array method\n",
    "        self.A = self.make_array(self.capacity)\n",
    "   \n",
    "    # define the len method\n",
    "    def __len__(self):\n",
    "        return self.n\n",
    "    # def get_item method\n",
    "    def get_item(self,k):\n",
    "        if not 0 <= k <self.n:\n",
    "            return IndexError('K is out of bounds!')\n",
    "        return self.A[k]\n",
    "    # def the append method\n",
    "    def append(self,ele):\n",
    "        # double the capacity if needed\n",
    "        if self.n == self.capacity:\n",
    "            self._resize(self.capacity * 2)\n",
    "        # add the new element\n",
    "        self.A[self.n] = ele\n",
    "        self.n += 1\n",
    "\n",
    "    # def resize the method with an argument new_capacity\n",
    "    def __resize__(self,new_cap):\n",
    "\n",
    "        # declare B using make_array \n",
    "        B = self.make_array(new_cap)\n",
    "\n",
    "        # Pass all element in A into B using a for loop\n",
    "        for k in range(self.n):\n",
    "            B[k] = self.A[k]\n",
    "\n",
    "        # Now make A = B\n",
    "        self.A = B \n",
    "\n",
    "        # reset capacity to new new_capacity\n",
    "        self.n = new_cap\n",
    "\n",
    "    # def make_array using the ctypes library we imported\n",
    "    def make_array(self,new_cap):\n",
    "        # return (new_capacity x ctypes.py_object)()\n",
    "        return (self.new_cap * ctypes.py_object)()"
   ]
  }
 ],
 "metadata": {
  "interpreter": {
   "hash": "6cc30744784fa59e98c2446a18129d422b4ed16f8f5f16febffe27c54501bb6f"
  },
  "kernelspec": {
   "display_name": "Python 3.9.5 ('base')",
   "language": "python",
   "name": "python3"
  },
  "language_info": {
   "codemirror_mode": {
    "name": "ipython",
    "version": 3
   },
   "file_extension": ".py",
   "mimetype": "text/x-python",
   "name": "python",
   "nbconvert_exporter": "python",
   "pygments_lexer": "ipython3",
   "version": "3.9.10"
  },
  "orig_nbformat": 4
 },
 "nbformat": 4,
 "nbformat_minor": 2
}
