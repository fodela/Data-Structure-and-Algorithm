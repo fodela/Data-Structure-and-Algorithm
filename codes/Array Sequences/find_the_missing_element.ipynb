{
 "cells": [
  {
   "cell_type": "markdown",
   "metadata": {},
   "source": [
    "## Find the Missing Element in two arrays\n",
    "\n",
    "Solution:\n",
    "1. Sort both arrays and iterate over them simultaneously. Once they are not the same the first element is the missing element. Else the last element is the missing one. O(nlogn)\n",
    "2. Sort the first array then do binary search first array elements in the second array. Beware of duplicates. O(nlogn)\n",
    "3. Iterate over both array and check which element in the first array is not in the second. Also Beware of duplicates. Less efficient O(n^2)\n",
    "4. We could subtract the sum of arr1 from arr2. but if the array is too long or the element are too small (decimals) we will lose some info and get a wrong answer.\n",
    "5. Using an exclusive OR (XOR)"
   ]
  },
  {
   "cell_type": "code",
   "execution_count": 16,
   "metadata": {},
   "outputs": [],
   "source": [
    "def finder1(arr1,arr2):\n",
    "    arr1.sort()\n",
    "    arr2.sort()\n",
    "\n",
    "    for num1, num2 in zip(arr1,arr2):\n",
    "        if num1!=num2:\n",
    "            return f\"{num1} is the missing element\"\n",
    "    return arr1[-1]"
   ]
  },
  {
   "cell_type": "code",
   "execution_count": 18,
   "metadata": {},
   "outputs": [],
   "source": [
    "import collections\n",
    "\n",
    "def finder2(arr1,arr2):\n",
    "    d = collections.defaultdict(int)\n",
    "\n",
    "    for num in arr2:\n",
    "        d[num]+=1\n",
    "\n",
    "    for num in arr1:\n",
    "        if d[num]==0:\n",
    "            return f\"{num} is the  missing element\"\n",
    "    else:\n",
    "        d[num]-=1\n",
    "        "
   ]
  },
  {
   "cell_type": "code",
   "execution_count": 19,
   "metadata": {},
   "outputs": [],
   "source": [
    "def finder3(arr1,arr2):\n",
    "    dic = {}\n",
    "    for el in arr1:\n",
    "        dic.setdefault(el,0)\n",
    "        dic[el]+=1\n",
    "    for el in arr2:\n",
    "        dic[el]-=1\n",
    "    \n",
    "    for el in arr1:\n",
    "        if dic[el]!=0:\n",
    "            return f\"{el} is the missing element\""
   ]
  },
  {
   "cell_type": "code",
   "execution_count": 25,
   "metadata": {},
   "outputs": [],
   "source": [
    "def finder4(arr1,arr2):\n",
    "    result = 0\n",
    "    for num in arr1 + arr2:\n",
    "        result^=num\n",
    "    return f\"{result} is the missing number\""
   ]
  },
  {
   "cell_type": "code",
   "execution_count": 20,
   "metadata": {},
   "outputs": [
    {
     "data": {
      "text/plain": [
       "'3 is the missing element'"
      ]
     },
     "execution_count": 20,
     "metadata": {},
     "output_type": "execute_result"
    }
   ],
   "source": [
    "finder1([1,2,3,4,5,6,7],[5,7,2,1,4,6])\n"
   ]
  },
  {
   "cell_type": "code",
   "execution_count": 21,
   "metadata": {},
   "outputs": [
    {
     "data": {
      "text/plain": [
       "'3 is the  missing element'"
      ]
     },
     "execution_count": 21,
     "metadata": {},
     "output_type": "execute_result"
    }
   ],
   "source": [
    "finder2([1,2,3,4,5,6,7],[5,7,2,1,4,6])"
   ]
  },
  {
   "cell_type": "code",
   "execution_count": 22,
   "metadata": {},
   "outputs": [
    {
     "data": {
      "text/plain": [
       "'3 is the missing element'"
      ]
     },
     "execution_count": 22,
     "metadata": {},
     "output_type": "execute_result"
    }
   ],
   "source": [
    "finder3([1,2,3,4,5,6,7],[5,7,2,1,4,6])"
   ]
  },
  {
   "cell_type": "code",
   "execution_count": 26,
   "metadata": {},
   "outputs": [
    {
     "data": {
      "text/plain": [
       "'3 is the missing number'"
      ]
     },
     "execution_count": 26,
     "metadata": {},
     "output_type": "execute_result"
    }
   ],
   "source": [
    "finder4([1,2,3,4,5,6,7],[5,7,2,1,4,6])"
   ]
  }
 ],
 "metadata": {
  "interpreter": {
   "hash": "6cc30744784fa59e98c2446a18129d422b4ed16f8f5f16febffe27c54501bb6f"
  },
  "kernelspec": {
   "display_name": "Python 3.9.5 ('base')",
   "language": "python",
   "name": "python3"
  },
  "language_info": {
   "codemirror_mode": {
    "name": "ipython",
    "version": 3
   },
   "file_extension": ".py",
   "mimetype": "text/x-python",
   "name": "python",
   "nbconvert_exporter": "python",
   "pygments_lexer": "ipython3",
   "version": "3.9.10"
  },
  "orig_nbformat": 4
 },
 "nbformat": 4,
 "nbformat_minor": 2
}
