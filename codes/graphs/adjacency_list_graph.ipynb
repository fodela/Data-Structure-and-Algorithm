{
 "cells": [
  {
   "cell_type": "markdown",
   "metadata": {},
   "source": [
    "### Graph implementation using adjacency list\n",
    "Two classes:\n",
    "1. Vertex\n",
    "   - Each vertex uses a dictionary to keep track of the vertices to which it is connected, and the weight of each edge. This dictionary is called connected_to \n",
    "   - Attributes:\n",
    "     - key : int\n",
    "     - weight : int\n",
    "     - connect_to : Dict[key, weight]\n",
    "   - Methods:\n",
    "      - add_neighbor()\n",
    "      - get_connections()\n",
    "      - get_weight()\n",
    "      - get_id()\n",
    "        \n",
    "2. Graph\n",
    "  - Attributes:\n",
    "    - Vertex list : Dict[key, vertex]\n",
    "    - number of vertices : int\n",
    "  - Methods\n",
    "    - add_vertex()\n",
    "    - get_vertex()\n",
    "    - add_edge()\n",
    "    - get_vertices"
   ]
  },
  {
   "cell_type": "code",
   "execution_count": 79,
   "metadata": {},
   "outputs": [],
   "source": [
    "from typing import Any, Dict\n",
    "\n",
    "\n",
    "class Vertex:\n",
    "    id: int\n",
    "    weight: int\n",
    "    connected_to : Dict[str, int]\n",
    "\n",
    "    def __init__(self, key):\n",
    "        self.id = key\n",
    "        self.connected_to = {}\n",
    "\n",
    "    def add_neighbor(self, neighbor, weight=0):\n",
    "        self.connected_to[neighbor] = weight\n",
    "\n",
    "    def get_connections(self):\n",
    "        return self.connected_to.keys()\n",
    "\n",
    "    def get_weight(self, neighbor):\n",
    "        return self.connected_to[neighbor]\n",
    "\n",
    "    def __str__(self):\n",
    "        return f\"{self.id} connected to: {[x   for x in self.connected_to]}\"\n"
   ]
  },
  {
   "cell_type": "code",
   "execution_count": 80,
   "metadata": {},
   "outputs": [],
   "source": [
    "from typing import Any, Iterator, List\n",
    "\n",
    "\n",
    "class Graph:\n",
    "    vert_list : Dict[str, int]\n",
    "    num_vertices: int\n",
    "\n",
    "    def __init__(self):\n",
    "        self.vert_list = {}\n",
    "        self.num_vertices = 0\n",
    "\n",
    "    def add_vertex(self, key) -> Vertex:\n",
    "        new_vertex = Vertex(key)\n",
    "        self.vert_list[key] = new_vertex\n",
    "        self.num_vertices += 1\n",
    "        return new_vertex\n",
    "\n",
    "    def get_vertex(self, key):\n",
    "        \n",
    "            return self.vertex_list[key] if key in self.vert_list else None\n",
    "\n",
    "    def add_edge(self, fro: int, to: int, cost: int) -> None:\n",
    "        if not fro in self.vert_list:\n",
    "            new_vertex = self.add_vertex(fro)\n",
    "        \n",
    "        if not to in self.vert_list:\n",
    "            new_vertex = self.add_vertex(to)\n",
    "\n",
    "        self.vert_list[fro].add_neighbor(to, cost)\n",
    "\n",
    "    def get_vertices(self) -> List[int]:\n",
    "        return self.vert_list.keys()\n",
    "\n",
    "    def __iter__(self) -> Iterator:\n",
    "        return iter(self.vert_list.values())\n",
    "\n",
    "    def __contains__(self, vert_key: int) -> bool:\n",
    "        return self.vert_key in self.vert_list\n",
    "     "
   ]
  },
  {
   "cell_type": "code",
   "execution_count": 81,
   "metadata": {},
   "outputs": [],
   "source": [
    "g = Graph()"
   ]
  },
  {
   "cell_type": "code",
   "execution_count": 82,
   "metadata": {},
   "outputs": [],
   "source": [
    "for i in range(5):\n",
    "    g.add_vertex(i)"
   ]
  },
  {
   "cell_type": "code",
   "execution_count": 83,
   "metadata": {},
   "outputs": [
    {
     "data": {
      "text/plain": [
       "{0: <__main__.Vertex at 0x7fdbe6f3abb0>,\n",
       " 1: <__main__.Vertex at 0x7fdbe6f3ad00>,\n",
       " 2: <__main__.Vertex at 0x7fdbe6f3a310>,\n",
       " 3: <__main__.Vertex at 0x7fdbe6f3a970>,\n",
       " 4: <__main__.Vertex at 0x7fdbe6f3a130>}"
      ]
     },
     "execution_count": 83,
     "metadata": {},
     "output_type": "execute_result"
    }
   ],
   "source": [
    "g.vert_list"
   ]
  },
  {
   "cell_type": "code",
   "execution_count": 84,
   "metadata": {},
   "outputs": [],
   "source": [
    "g.add_edge(1,2,10)\n",
    "g.add_edge(3,5,5)\n",
    "g.add_edge(1,3,6)"
   ]
  },
  {
   "cell_type": "code",
   "execution_count": 85,
   "metadata": {},
   "outputs": [
    {
     "name": "stdout",
     "output_type": "stream",
     "text": [
      "0 connected to: []\n",
      "\n",
      "\n",
      "1 connected to: [2, 3]\n",
      "\n",
      "\n",
      "2 connected to: []\n",
      "\n",
      "\n",
      "3 connected to: [5]\n",
      "\n",
      "\n",
      "4 connected to: []\n",
      "\n",
      "\n",
      "5 connected to: []\n",
      "\n",
      "\n"
     ]
    }
   ],
   "source": [
    "for vertex in g :\n",
    "    print(vertex)\n",
    "    print(vertex.get_connections())\n",
    "    print(\"\\n\")"
   ]
  }
 ],
 "metadata": {
  "kernelspec": {
   "display_name": "Python 3.9.12 ('base')",
   "language": "python",
   "name": "python3"
  },
  "language_info": {
   "codemirror_mode": {
    "name": "ipython",
    "version": 3
   },
   "file_extension": ".py",
   "mimetype": "text/x-python",
   "name": "python",
   "nbconvert_exporter": "python",
   "pygments_lexer": "ipython3",
   "version": "3.9.12"
  },
  "orig_nbformat": 4,
  "vscode": {
   "interpreter": {
    "hash": "6cc30744784fa59e98c2446a18129d422b4ed16f8f5f16febffe27c54501bb6f"
   }
  }
 },
 "nbformat": 4,
 "nbformat_minor": 2
}
