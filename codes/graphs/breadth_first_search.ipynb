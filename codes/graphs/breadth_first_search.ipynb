{
 "cells": [
  {
   "cell_type": "code",
   "execution_count": null,
   "metadata": {},
   "outputs": [],
   "source": [
    "from queue import Queue\n",
    "\n",
    "\n",
    "def bfs(g, start):\n",
    "    start.set_distance(0)\n",
    "    start.set_pred(None)\n",
    "    vert_queue = Queue()\n",
    "    vert_queue.enqueue(start)\n",
    "    \n",
    "    while(vert_queue.size() > 0):\n",
    "        current_vert = vert_queue.dequeue()\n",
    "        for nbr in current_vert.get_connections():\n",
    "            if (nbr.get_color() == \"white\"):\n",
    "                nbr.set_color(\"gray\")\n",
    "                nbr.set_distance(current_vert.get_distance() + 1)\n",
    "                nbr.set_pred(current_vert)\n",
    "                vert_queue.enqueue(nbr)\n",
    "        current_vert.set_color(\"black\")\n",
    "\n",
    "\n",
    "\n",
    "def set_distance(nbr: int) -> None:\n",
    "    pass\n",
    "\n",
    "def set_pred(nbr: int):\n",
    "    pass"
   ]
  }
 ],
 "metadata": {
  "language_info": {
   "name": "python"
  },
  "orig_nbformat": 4
 },
 "nbformat": 4,
 "nbformat_minor": 2
}
