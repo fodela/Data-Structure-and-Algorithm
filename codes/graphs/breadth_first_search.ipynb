{
 "cells": [
  {
   "cell_type": "code",
   "execution_count": 3,
   "metadata": {},
   "outputs": [],
   "source": [
    "from queue import Queue\n",
    "\n",
    "\n",
    "def bfs(g, start):\n",
    "    start.set_distance(0)\n",
    "    start.set_pred(None)\n",
    "    \n",
    "    \n",
    "    vert_queue = Queue()\n",
    "    vert_queue.enqueue(start)\n",
    "    \n",
    "    while(vert_queue.size() > 0):\n",
    "        current_vert = vert_queue.dequeue()\n",
    "        for nbr in current_vert.get_connections():\n",
    "            if (nbr.get_color() == \"white\"):\n",
    "                nbr.set_color(\"gray\")\n",
    "                nbr.set_distance(current_vert.get_distance() + 1)\n",
    "                nbr.set_pred(current_vert)\n",
    "                vert_queue.enqueue(nbr)\n",
    "        current_vert.set_color(\"black\")\n",
    "\n",
    "\n",
    "\n",
    "def set_distance(nbr: int) -> None:\n",
    "    pass\n",
    "\n",
    "def set_pred(nbr: int):\n",
    "    pass\n",
    "\n",
    "def set_color(nbr: int) -> None:\n",
    "    pass"
   ]
  }
 ],
 "metadata": {
  "kernelspec": {
   "display_name": "Python 3.9.12 ('base')",
   "language": "python",
   "name": "python3"
  },
  "language_info": {
   "codemirror_mode": {
    "name": "ipython",
    "version": 3
   },
   "file_extension": ".py",
   "mimetype": "text/x-python",
   "name": "python",
   "nbconvert_exporter": "python",
   "pygments_lexer": "ipython3",
   "version": "3.9.12"
  },
  "orig_nbformat": 4,
  "vscode": {
   "interpreter": {
    "hash": "6cc30744784fa59e98c2446a18129d422b4ed16f8f5f16febffe27c54501bb6f"
   }
  }
 },
 "nbformat": 4,
 "nbformat_minor": 2
}
