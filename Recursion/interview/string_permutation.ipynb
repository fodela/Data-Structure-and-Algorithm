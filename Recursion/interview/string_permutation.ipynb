{
 "cells": [
  {
   "cell_type": "markdown",
   "metadata": {},
   "source": [
    "# String Permutation\n",
    "### Problem\n",
    "Given a string write a function that uses recursion to output a list of all the possible permutations of that string.\n",
    "\n",
    "### Solution\n",
    "- Mention that you will like to use the itertools library\n",
    "\n",
    "1. Iterate through the initial string - e.g 'abc'\n",
    "\n",
    "2. For each character in the initial string, set aside that character and get a list of all permutations of the string that's left. So, for example, if the current iteration is on 'b', we would want to find all the permutations of the string 'ac'.\n",
    "\n",
    "3. Once you have the list from step 2 above, add each element from that list to the character from the initial string, and append the result to our list of final results. So if we're on 'b' and we've gotten the list ['ac'], we'd add 'b' to those, resulting in 'bac' and 'bca', each of which we'd add to our final results\n",
    "\n",
    "4. Return the list of final results.\n",
    "\n"
   ]
  },
  {
   "cell_type": "code",
   "execution_count": null,
   "metadata": {},
   "outputs": [],
   "source": [
    "def permute(s):\n",
    "    out = []\n",
    "    \n",
    "    if len(s) == 1:\n",
    "        out = [s]\n",
    "    else:\n",
    "\n",
    "        # for every letter in string\n",
    "        for i in s:\n",
    "            \n",
    "\n",
    "\n",
    "    # Basecase"
   ]
  }
 ],
 "metadata": {
  "language_info": {
   "name": "python"
  },
  "orig_nbformat": 4
 },
 "nbformat": 4,
 "nbformat_minor": 2
}
