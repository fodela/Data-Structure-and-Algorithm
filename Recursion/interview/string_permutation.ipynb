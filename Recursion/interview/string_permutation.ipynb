{
 "cells": [
  {
   "cell_type": "markdown",
   "metadata": {},
   "source": [
    "# String Permutation\n",
    "### Problem\n",
    "Given a string write a function that uses recursion to output a list of all the possible permutations of that string.\n",
    "\n",
    "### Solution\n",
    "- Mention that you will like to use the itertools library\n",
    "\n",
    "1. Iterate through the initial string - e.g 'abc'\n",
    "\n",
    "2. For each character in the initial string, set aside that character and get a list of all permutations of the string that's left. So, for example, if the current iteration is on 'b', we would want to find all the permutations of the string 'ac'.\n",
    "\n",
    "3. Once you have the list from step 2 above, add each element from that list to the character from the initial string, and append the result to our list of final results. So if we're on 'b' and we've gotten the list ['ac'], we'd add 'b' to those, resulting in 'bac' and 'bca', each of which we'd add to our final results\n",
    "\n",
    "4. Return the list of final results.\n",
    "\n"
   ]
  },
  {
   "cell_type": "code",
   "execution_count": 19,
   "metadata": {},
   "outputs": [],
   "source": [
    "def permute(s):\n",
    "    \n",
    "    out = []\n",
    "\n",
    "            \n",
    "    # Basecase\n",
    "    if len(s) == 1:\n",
    "        \n",
    "        out = []\n",
    "\n",
    "    else:\n",
    "\n",
    "        # loop through the string and perform the ff operation on each letter\n",
    "        # for every letter in the string\n",
    "        # for i, letter in enumerate(abc)\n",
    "        for (i,letter) in enumerate(s):\n",
    "            \n",
    "            \n",
    "            # loop through the rest thus everything before the current letter -> s[:i] and everything after the current letter -> [s[i+1]]\n",
    "            # for permutation resulting in step 2 and 3\n",
    "            #  for perm in permute(b + c)\n",
    "            for perm in permute(s[:i] + s[i+1:]):\n",
    "                print('current letter is ', letter)\n",
    "                print('perm is: ',perm )\n",
    "\n",
    "                # add the chosen letter from step to the permutation that resulted from the remaining string\n",
    "                # out = ['a' + 'bc', 'a' + 'cb' --> abc, acb]\n",
    "                out += [letter + perm]\n",
    "    return out\n"
   ]
  },
  {
   "cell_type": "code",
   "execution_count": 20,
   "metadata": {},
   "outputs": [
    {
     "data": {
      "text/plain": [
       "[]"
      ]
     },
     "execution_count": 20,
     "metadata": {},
     "output_type": "execute_result"
    }
   ],
   "source": [
    "permute('abc')"
   ]
  },
  {
   "cell_type": "code",
   "execution_count": null,
   "metadata": {},
   "outputs": [],
   "source": []
  }
 ],
 "metadata": {
  "interpreter": {
   "hash": "6cc30744784fa59e98c2446a18129d422b4ed16f8f5f16febffe27c54501bb6f"
  },
  "kernelspec": {
   "display_name": "Python 3.9.12 ('base')",
   "language": "python",
   "name": "python3"
  },
  "language_info": {
   "codemirror_mode": {
    "name": "ipython",
    "version": 3
   },
   "file_extension": ".py",
   "mimetype": "text/x-python",
   "name": "python",
   "nbconvert_exporter": "python",
   "pygments_lexer": "ipython3",
   "version": "3.9.12"
  },
  "orig_nbformat": 4
 },
 "nbformat": 4,
 "nbformat_minor": 2
}
