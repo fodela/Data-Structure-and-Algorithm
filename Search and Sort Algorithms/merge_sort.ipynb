{
 "cells": [
  {
   "cell_type": "markdown",
   "metadata": {},
   "source": [
    "We divide the list into two repeatedly(recursively)\n",
    "\n",
    "Loop Through the array and:\n",
    "1. Of the left and right halves, add the lesser element to the main array.\n",
    "The left half contains element that are smaller than the current element in the array to be sorted"
   ]
  },
  {
   "cell_type": "code",
   "execution_count": 73,
   "metadata": {},
   "outputs": [],
   "source": [
    "def merge_sort_asc(arr):\n",
    "    # An array with a single element is already sorted\n",
    "    if len(arr) > 1:\n",
    "\n",
    "        # Divide the array into two\n",
    "        mid = len(arr)//2\n",
    "        left_half = arr[:mid]\n",
    "        right_half = arr[mid:]\n",
    "\n",
    "        # Do a recursive call on both halves\n",
    "        merge_sort_asc(left_half)\n",
    "        merge_sort_asc(right_half)\n",
    " \n",
    "        i = 0 # Index tracker of left_half\n",
    "        j = 0 # Index tracker of right_half\n",
    "        k = 0 # Index tracker of the main array\n",
    "\n",
    "        while i < len(left_half) and j < len(right_half):\n",
    "            # We append the smaller element at the instance to main array \n",
    "            if left_half[i] < right_half[j]:\n",
    "                arr[k] = left_half[i]\n",
    "\n",
    "                i += 1\n",
    "\n",
    "            else:\n",
    "                arr[k] = right_half[j]\n",
    "                j += 1\n",
    "\n",
    "            k += 1\n",
    "\n",
    "        \n",
    "        while i < len(left_half):\n",
    "            arr[k] = left_half[i]\n",
    "            i += 1\n",
    "            k += 1\n",
    "            \n",
    "        \n",
    "        while j < len(right_half):\n",
    "            arr[k] = right_half[j]\n",
    "            j += 1\n",
    "            k += 1"
   ]
  },
  {
   "cell_type": "code",
   "execution_count": 74,
   "metadata": {},
   "outputs": [],
   "source": [
    "def merge_sort_desc(arr):\n",
    "    if len(arr) > 1:\n",
    "\n",
    "        mid = len(arr) // 2\n",
    "        left_half = arr[:mid]\n",
    "        right_half = arr[mid:]\n",
    "\n",
    "        merge_sort_desc(left_half)\n",
    "        merge_sort_desc(right_half)\n",
    "\n",
    "        i = 0\n",
    "        j = 0\n",
    "        k = 0\n",
    "\n",
    "        while i < len(left_half) and j < len(right_half):\n",
    "            if left_half[i] > right_half[j]:\n",
    "                arr[k] = left_half[i]\n",
    "                i += 1\n",
    "\n",
    "            else:\n",
    "                arr[k] = right_half[j]\n",
    "                j += 1\n",
    "\n",
    "            k += 1\n",
    "\n",
    "        while i < len(left_half):\n",
    "            arr[k] = left_half[i]\n",
    "            i += 1\n",
    "            k += 1\n",
    "\n",
    "        while j < len(right_half):\n",
    "            arr[k] = right_half[j]\n",
    "            j += 1\n",
    "            k += 1"
   ]
  },
  {
   "cell_type": "code",
   "execution_count": 75,
   "metadata": {},
   "outputs": [
    {
     "name": "stdout",
     "output_type": "stream",
     "text": [
      "[1, 2, 3, 4, 5, 6, 7, 9, 11, 13, 23]\n",
      "[23, 13, 11, 9, 7, 6, 5, 4, 3, 2, 1]\n"
     ]
    }
   ],
   "source": [
    "arr = [4,6,3,7,5,1,9,11,23,13,2] \n",
    "merge_sort_asc(arr)\n",
    "print(arr)\n",
    "\n",
    "merge_sort_desc(arr)\n",
    "print(arr)"
   ]
  }
 ],
 "metadata": {
  "kernelspec": {
   "display_name": "Python 3.9.12 ('base')",
   "language": "python",
   "name": "python3"
  },
  "language_info": {
   "codemirror_mode": {
    "name": "ipython",
    "version": 3
   },
   "file_extension": ".py",
   "mimetype": "text/x-python",
   "name": "python",
   "nbconvert_exporter": "python",
   "pygments_lexer": "ipython3",
   "version": "3.9.12"
  },
  "orig_nbformat": 4,
  "vscode": {
   "interpreter": {
    "hash": "6cc30744784fa59e98c2446a18129d422b4ed16f8f5f16febffe27c54501bb6f"
   }
  }
 },
 "nbformat": 4,
 "nbformat_minor": 2
}
