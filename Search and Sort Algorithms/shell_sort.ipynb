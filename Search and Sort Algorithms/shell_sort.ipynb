{
 "cells": [
  {
   "cell_type": "code",
   "execution_count": 8,
   "metadata": {},
   "outputs": [],
   "source": [
    "from typing import List\n",
    "\n",
    "def gap_insertion_sort(arr:List[int], start: int, gap: int) -> None:\n",
    "    for i in range(start+gap, len(arr), gap):\n",
    "        current_value = arr[i]\n",
    "        position = i\n",
    "\n",
    "        while position > 0 and arr[position - gap] > current_value:\n",
    "            \n",
    "            # arr[position], arr[position - gap] = arr[position - gap], arr[position]\n",
    "\n",
    "            arr[position] = arr[position - gap]\n",
    "            position = position-gap\n",
    "\n",
    "        arr[position] = current_value\n",
    "\n",
    "\n",
    "def shell_sort_asc(arr: List) -> None:\n",
    "    \n",
    "    sublist_count = len(arr)//2\n",
    "\n",
    "    while sublist_count > 0:\n",
    "\n",
    "        for start in range(sublist_count):\n",
    "            gap_insertion_sort(arr,start,sublist_count)\n",
    "\n",
    "        sublist_count = sublist_count//2"
   ]
  },
  {
   "cell_type": "code",
   "execution_count": 9,
   "metadata": {},
   "outputs": [
    {
     "name": "stdout",
     "output_type": "stream",
     "text": [
      "[1, 2, 3, 4, 5, 6, 7, 9, 11, 13, 23]\n"
     ]
    }
   ],
   "source": [
    "arr = [4,6,3,7,5,1,9,11,23,13,2] \n",
    "shell_sort_asc(arr)\n",
    "print(arr)\n",
    "# shell_sort_desc(arr)\n",
    "# print(arr)"
   ]
  }
 ],
 "metadata": {
  "kernelspec": {
   "display_name": "Python 3.9.12 ('base')",
   "language": "python",
   "name": "python3"
  },
  "language_info": {
   "codemirror_mode": {
    "name": "ipython",
    "version": 3
   },
   "file_extension": ".py",
   "mimetype": "text/x-python",
   "name": "python",
   "nbconvert_exporter": "python",
   "pygments_lexer": "ipython3",
   "version": "3.9.12"
  },
  "orig_nbformat": 4,
  "vscode": {
   "interpreter": {
    "hash": "6cc30744784fa59e98c2446a18129d422b4ed16f8f5f16febffe27c54501bb6f"
   }
  }
 },
 "nbformat": 4,
 "nbformat_minor": 2
}
