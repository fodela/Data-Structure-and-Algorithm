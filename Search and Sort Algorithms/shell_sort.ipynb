{
 "cells": [
  {
   "cell_type": "code",
   "execution_count": 6,
   "metadata": {},
   "outputs": [],
   "source": [
    "from typing import List\n",
    "\n",
    "def gap_insertion_sort_asc(arr:List[int], start: int, gap: int) -> None:\n",
    "    \n",
    "    for i in range(start+gap, len(arr), gap):\n",
    "        current_value = arr[i]\n",
    "        position = i\n",
    "\n",
    "        while position > 0 and arr[position - gap] > current_value:\n",
    "            \n",
    "            arr[position] = arr[position - gap]\n",
    "            position = position-gap\n",
    "\n",
    "        arr[position] = current_value\n",
    "\n",
    "\n",
    "def shell_sort_asc(arr: List) -> None:\n",
    "    # divide arr into two\n",
    "    sublist_count = len(arr)//2\n",
    "\n",
    "    while sublist_count > 0:\n",
    "\n",
    "        for start in range(sublist_count):\n",
    "            gap_insertion_sort_asc(arr,start,sublist_count)\n",
    "\n",
    "        sublist_count = sublist_count//2"
   ]
  },
  {
   "cell_type": "code",
   "execution_count": 8,
   "metadata": {},
   "outputs": [],
   "source": [
    "# BUG infinite loop\n",
    "\n",
    "def gap_insertion_sort_desc(arr: List[int], start: int, gap: int) -> None:\n",
    "    \n",
    "    for i in range(start+gap, len(arr), gap):\n",
    "        position = i\n",
    "        current_value = arr[i]\n",
    "\n",
    "        while position > 0 and arr[position - gap] < current_value:\n",
    "            arr[position] = arr[position - gap]\n",
    "            print(position)\n",
    "            position -= gap\n",
    "\n",
    "        arr[position] = current_value\n",
    "\n",
    "def shell_sort_desc(arr: List[int]) -> None:\n",
    "\n",
    "    sublist_count = len(arr)//2\n",
    "\n",
    "    for start in range(sublist_count):\n",
    "\n",
    "        while sublist_count > 0:\n",
    "            gap_insertion_sort_desc(arr, start, sublist_count)\n",
    "        \n",
    "        sublist_count = sublist_count//2"
   ]
  },
  {
   "cell_type": "code",
   "execution_count": 9,
   "metadata": {},
   "outputs": [
    {
     "name": "stdout",
     "output_type": "stream",
     "text": [
      "[1, 2, 3, 4, 5, 6, 7, 9, 11, 13, 23]\n",
      "5\n",
      "10\n",
      "5\n"
     ]
    },
    {
     "ename": "KeyboardInterrupt",
     "evalue": "",
     "output_type": "error",
     "traceback": [
      "\u001b[0;31m---------------------------------------------------------------------------\u001b[0m",
      "\u001b[0;31mKeyboardInterrupt\u001b[0m                         Traceback (most recent call last)",
      "\u001b[1;32m/home/fodela/Documents/code/Projects/coding challenges/Python for Data Structure and algorithm/Search and Sort Algorithms/shell_sort.ipynb Cell 3\u001b[0m in \u001b[0;36m<module>\u001b[0;34m\u001b[0m\n\u001b[1;32m      <a href='vscode-notebook-cell:/home/fodela/Documents/code/Projects/coding%20challenges/Python%20for%20Data%20Structure%20and%20algorithm/Search%20and%20Sort%20Algorithms/shell_sort.ipynb#W2sZmlsZQ%3D%3D?line=1'>2</a>\u001b[0m shell_sort_asc(arr)\n\u001b[1;32m      <a href='vscode-notebook-cell:/home/fodela/Documents/code/Projects/coding%20challenges/Python%20for%20Data%20Structure%20and%20algorithm/Search%20and%20Sort%20Algorithms/shell_sort.ipynb#W2sZmlsZQ%3D%3D?line=2'>3</a>\u001b[0m \u001b[39mprint\u001b[39m(arr)\n\u001b[0;32m----> <a href='vscode-notebook-cell:/home/fodela/Documents/code/Projects/coding%20challenges/Python%20for%20Data%20Structure%20and%20algorithm/Search%20and%20Sort%20Algorithms/shell_sort.ipynb#W2sZmlsZQ%3D%3D?line=3'>4</a>\u001b[0m shell_sort_desc(arr)\n\u001b[1;32m      <a href='vscode-notebook-cell:/home/fodela/Documents/code/Projects/coding%20challenges/Python%20for%20Data%20Structure%20and%20algorithm/Search%20and%20Sort%20Algorithms/shell_sort.ipynb#W2sZmlsZQ%3D%3D?line=4'>5</a>\u001b[0m \u001b[39mprint\u001b[39m(arr)\n",
      "\u001b[1;32m/home/fodela/Documents/code/Projects/coding challenges/Python for Data Structure and algorithm/Search and Sort Algorithms/shell_sort.ipynb Cell 3\u001b[0m in \u001b[0;36mshell_sort_desc\u001b[0;34m(arr)\u001b[0m\n\u001b[1;32m     <a href='vscode-notebook-cell:/home/fodela/Documents/code/Projects/coding%20challenges/Python%20for%20Data%20Structure%20and%20algorithm/Search%20and%20Sort%20Algorithms/shell_sort.ipynb#W2sZmlsZQ%3D%3D?line=17'>18</a>\u001b[0m \u001b[39mfor\u001b[39;00m start \u001b[39min\u001b[39;00m \u001b[39mrange\u001b[39m(sublist_count):\n\u001b[1;32m     <a href='vscode-notebook-cell:/home/fodela/Documents/code/Projects/coding%20challenges/Python%20for%20Data%20Structure%20and%20algorithm/Search%20and%20Sort%20Algorithms/shell_sort.ipynb#W2sZmlsZQ%3D%3D?line=19'>20</a>\u001b[0m     \u001b[39mwhile\u001b[39;00m sublist_count \u001b[39m>\u001b[39m \u001b[39m0\u001b[39m:\n\u001b[0;32m---> <a href='vscode-notebook-cell:/home/fodela/Documents/code/Projects/coding%20challenges/Python%20for%20Data%20Structure%20and%20algorithm/Search%20and%20Sort%20Algorithms/shell_sort.ipynb#W2sZmlsZQ%3D%3D?line=20'>21</a>\u001b[0m         gap_insertion_sort_desc(arr, start, sublist_count)\n\u001b[1;32m     <a href='vscode-notebook-cell:/home/fodela/Documents/code/Projects/coding%20challenges/Python%20for%20Data%20Structure%20and%20algorithm/Search%20and%20Sort%20Algorithms/shell_sort.ipynb#W2sZmlsZQ%3D%3D?line=22'>23</a>\u001b[0m     sublist_count \u001b[39m=\u001b[39m sublist_count\u001b[39m/\u001b[39m\u001b[39m/\u001b[39m\u001b[39m2\u001b[39m\n",
      "\u001b[1;32m/home/fodela/Documents/code/Projects/coding challenges/Python for Data Structure and algorithm/Search and Sort Algorithms/shell_sort.ipynb Cell 3\u001b[0m in \u001b[0;36mgap_insertion_sort_desc\u001b[0;34m(arr, start, gap)\u001b[0m\n\u001b[1;32m      <a href='vscode-notebook-cell:/home/fodela/Documents/code/Projects/coding%20challenges/Python%20for%20Data%20Structure%20and%20algorithm/Search%20and%20Sort%20Algorithms/shell_sort.ipynb#W2sZmlsZQ%3D%3D?line=2'>3</a>\u001b[0m \u001b[39mfor\u001b[39;00m i \u001b[39min\u001b[39;00m \u001b[39mrange\u001b[39m(start\u001b[39m+\u001b[39mgap, \u001b[39mlen\u001b[39m(arr), gap):\n\u001b[1;32m      <a href='vscode-notebook-cell:/home/fodela/Documents/code/Projects/coding%20challenges/Python%20for%20Data%20Structure%20and%20algorithm/Search%20and%20Sort%20Algorithms/shell_sort.ipynb#W2sZmlsZQ%3D%3D?line=3'>4</a>\u001b[0m     position \u001b[39m=\u001b[39m i\n\u001b[0;32m----> <a href='vscode-notebook-cell:/home/fodela/Documents/code/Projects/coding%20challenges/Python%20for%20Data%20Structure%20and%20algorithm/Search%20and%20Sort%20Algorithms/shell_sort.ipynb#W2sZmlsZQ%3D%3D?line=4'>5</a>\u001b[0m     current_value \u001b[39m=\u001b[39m arr[i]\n\u001b[1;32m      <a href='vscode-notebook-cell:/home/fodela/Documents/code/Projects/coding%20challenges/Python%20for%20Data%20Structure%20and%20algorithm/Search%20and%20Sort%20Algorithms/shell_sort.ipynb#W2sZmlsZQ%3D%3D?line=6'>7</a>\u001b[0m     \u001b[39mwhile\u001b[39;00m position \u001b[39m>\u001b[39m \u001b[39m0\u001b[39m \u001b[39mand\u001b[39;00m arr[position \u001b[39m-\u001b[39m gap] \u001b[39m<\u001b[39m current_value:\n\u001b[1;32m      <a href='vscode-notebook-cell:/home/fodela/Documents/code/Projects/coding%20challenges/Python%20for%20Data%20Structure%20and%20algorithm/Search%20and%20Sort%20Algorithms/shell_sort.ipynb#W2sZmlsZQ%3D%3D?line=7'>8</a>\u001b[0m         arr[position] \u001b[39m=\u001b[39m arr[position \u001b[39m-\u001b[39m gap]\n",
      "\u001b[0;31mKeyboardInterrupt\u001b[0m: "
     ]
    }
   ],
   "source": [
    "arr = [4,6,3,7,5,1,9,11,23,13,2] \n",
    "shell_sort_asc(arr)\n",
    "print(arr)\n",
    "shell_sort_desc(arr)\n",
    "print(arr)"
   ]
  }
 ],
 "metadata": {
  "kernelspec": {
   "display_name": "Python 3.9.12 ('base')",
   "language": "python",
   "name": "python3"
  },
  "language_info": {
   "codemirror_mode": {
    "name": "ipython",
    "version": 3
   },
   "file_extension": ".py",
   "mimetype": "text/x-python",
   "name": "python",
   "nbconvert_exporter": "python",
   "pygments_lexer": "ipython3",
   "version": "3.9.12"
  },
  "orig_nbformat": 4,
  "vscode": {
   "interpreter": {
    "hash": "6cc30744784fa59e98c2446a18129d422b4ed16f8f5f16febffe27c54501bb6f"
   }
  }
 },
 "nbformat": 4,
 "nbformat_minor": 2
}
