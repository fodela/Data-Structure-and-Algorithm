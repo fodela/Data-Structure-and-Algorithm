{
 "cells": [
  {
   "cell_type": "code",
   "execution_count": 7,
   "metadata": {},
   "outputs": [],
   "source": [
    "from typing import List\n",
    "\n",
    "\n",
    "def quick_sort_asc(arr: List[int]) -> None:\n",
    "\n",
    "    quick_sort_asc_help(arr, 0, len(arr) - 1)\n",
    "\n",
    "def quick_sort_asc_help(arr: List[int], first: int, last: int) -> None: \n",
    "    if first < last:\n",
    "\n",
    "        split_point = partition(arr, first, last)\n",
    "\n",
    "        quick_sort_asc_help(arr, first, split_point - 1)\n",
    "        quick_sort_asc_help(arr, split_point + 1, last)\n",
    "\n",
    "def partition(arr: List[int], first: int, last: int) -> int:\n",
    "    pivot_value = arr[first]\n",
    "\n",
    "    left_mark = first + 1\n",
    "    right_mark = last\n",
    "\n",
    "    done = False\n",
    "\n",
    "    while not done:\n",
    "\n",
    "        while left_mark <= right_mark and arr[left_mark] <= pivot_value:\n",
    "            left_mark += 1\n",
    "\n",
    "        while arr[right_mark] >= pivot_value and right_mark >= left_mark:\n",
    "            right_mark -= 1\n",
    "\n",
    "        if right_mark < left_mark:\n",
    "            done = True\n",
    "\n",
    "        else: \n",
    "            arr[left_mark],arr[right_mark] = arr[right_mark], arr[left_mark] \n",
    "\n",
    "    arr[first], arr[right_mark] = arr[right_mark], arr[first]\n",
    "\n",
    "    return right_mark\n"
   ]
  },
  {
   "cell_type": "code",
   "execution_count": null,
   "metadata": {},
   "outputs": [],
   "source": [
    "def quick_sort_desc(arr: List[int]) -> None:\n",
    "\n",
    "    quick_sort_desc_help(arr, 0, len(arr) - 1)\n",
    "\n",
    "def quick_sort_desc_help(arr: List[int], first: int, last: int) -> None:\n",
    "\n",
    "    if first < last:\n",
    "        split_point = partition(arr, first, last)\n",
    "\n",
    "        quick_sort_desc_help(arr, first, split_point - 1)\n",
    "        quick_sort_desc_help(arr, split_point + 1, last)\n",
    "\n",
    "\n",
    "def partition(arr: List[int], first: int, last: int) -> int:\n",
    "    # choose a pivot, first and last marks\n",
    "\n"
   ]
  },
  {
   "cell_type": "code",
   "execution_count": 8,
   "metadata": {},
   "outputs": [
    {
     "name": "stdout",
     "output_type": "stream",
     "text": [
      "[1, 2, 3, 4, 6, 8]\n"
     ]
    }
   ],
   "source": [
    "arr = [3,4,6,2,8,1]\n",
    "quick_sort_asc(arr)\n",
    "print(arr)"
   ]
  }
 ],
 "metadata": {
  "kernelspec": {
   "display_name": "Python 3.9.12 ('base')",
   "language": "python",
   "name": "python3"
  },
  "language_info": {
   "codemirror_mode": {
    "name": "ipython",
    "version": 3
   },
   "file_extension": ".py",
   "mimetype": "text/x-python",
   "name": "python",
   "nbconvert_exporter": "python",
   "pygments_lexer": "ipython3",
   "version": "3.9.12"
  },
  "orig_nbformat": 4,
  "vscode": {
   "interpreter": {
    "hash": "6cc30744784fa59e98c2446a18129d422b4ed16f8f5f16febffe27c54501bb6f"
   }
  }
 },
 "nbformat": 4,
 "nbformat_minor": 2
}
