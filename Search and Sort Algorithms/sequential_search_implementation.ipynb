{
 "cells": [
  {
   "cell_type": "code",
   "execution_count": 15,
   "metadata": {},
   "outputs": [],
   "source": [
    "from typing import List\n",
    "def seq_search(arr: List[int], elem:int) -> bool:\n",
    "    \"\"\"Sequentially search an integer in a given array\n",
    "\n",
    "    Args:\n",
    "        arr (List[int]): must be a sorted list of integers\n",
    "        elem (int): is the element to be searched for in the list\n",
    "\n",
    "    Returns:\n",
    "        bool: return whether the element was found or not\n",
    "    \"\"\"\n",
    "    found = False\n",
    "    pos = 0\n",
    "\n",
    "    while pos < len(arr) and not found:\n",
    "        if arr[pos] == elem:\n",
    "            found = True\n",
    "        \n",
    "        else:\n",
    "            pos += 1\n",
    "\n",
    "\n",
    "    return found"
   ]
  },
  {
   "cell_type": "code",
   "execution_count": 23,
   "metadata": {},
   "outputs": [],
   "source": [
    "from typing import List\n",
    "def ordered_seq_search(arr:List[int], elem:int) -> bool:\n",
    "    \"\"\"Sequentially search an integer in a given array\n",
    "\n",
    "    Args:\n",
    "        arr (List[int]): must be a sorted list of integers\n",
    "        elem (int): is the element to be searched for in the list\n",
    "\n",
    "    Returns:\n",
    "        bool: return whether the element was found or not\n",
    "    \"\"\"\n",
    "    found  = False\n",
    "    pos = 0\n",
    "    stopped = False\n",
    "\n",
    "    while (pos < len(arr) and not found) and not stopped:\n",
    "        if arr[pos] == elem:\n",
    "            found = True\n",
    "\n",
    "        else:\n",
    "            if arr[pos] > elem:\n",
    "                stopped = True\n",
    "            else:\n",
    "                pos += 1\n",
    "\n",
    "    return found"
   ]
  },
  {
   "cell_type": "code",
   "execution_count": 14,
   "metadata": {},
   "outputs": [],
   "source": [
    "import unittest \n",
    "class TestSequentialSearch(unittest.TestCase):\n",
    "    def test_seq_search(self):\n",
    "        arr = [1,2,3,4,5]\n",
    "\n",
    "        self.assertFalse(seq_search(arr, 6))\n",
    "\n",
    "        self.assertTrue(seq_search(arr, 3))\n",
    "\n",
    "# unittest.main()"
   ]
  },
  {
   "cell_type": "code",
   "execution_count": 24,
   "metadata": {},
   "outputs": [
    {
     "name": "stdout",
     "output_type": "stream",
     "text": [
      "False\n",
      "True\n"
     ]
    }
   ],
   "source": [
    "arr = [1,2,3,4,5]\n",
    "print(ordered_seq_search(arr, 6))\n",
    "\n",
    "print(ordered_seq_search(arr, 3))\n"
   ]
  }
 ],
 "metadata": {
  "kernelspec": {
   "display_name": "Python 3.9.12 ('base')",
   "language": "python",
   "name": "python3"
  },
  "language_info": {
   "codemirror_mode": {
    "name": "ipython",
    "version": 3
   },
   "file_extension": ".py",
   "mimetype": "text/x-python",
   "name": "python",
   "nbconvert_exporter": "python",
   "pygments_lexer": "ipython3",
   "version": "3.9.12"
  },
  "orig_nbformat": 4,
  "vscode": {
   "interpreter": {
    "hash": "6cc30744784fa59e98c2446a18129d422b4ed16f8f5f16febffe27c54501bb6f"
   }
  }
 },
 "nbformat": 4,
 "nbformat_minor": 2
}
