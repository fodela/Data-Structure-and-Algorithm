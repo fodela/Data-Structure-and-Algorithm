{
 "cells": [
  {
   "cell_type": "code",
   "execution_count": null,
   "metadata": {},
   "outputs": [],
   "source": [
    "\n",
    "from typing import List\n",
    "\n",
    "\n",
    "def binary_search(arr: List[int], elem:int) -> bool:\n",
    "    \"\"\"Sequentially search an integer in a given array\n",
    "\n",
    "    Args:\n",
    "        arr (List[int]): must be a sorted list of integers\n",
    "        elem (int): is the element to be searched for in the list\n",
    "\n",
    "    Returns:\n",
    "        bool: return whether the element was found or not\n",
    "    \"\"\"\n",
    "    found = False\n",
    "    first = 0\n",
    "    last = len(arr)-1\n",
    "\n",
    "    while first < last and not found:\n",
    "        mid = (first + last)//2\n",
    "\n",
    "        if arr[mid] == elem:\n",
    "            found = True\n",
    "        else:\n",
    "            if elem > mid:\n",
    "                first = mid+1\n",
    "            else:\n",
    "                last = mid - 1\n",
    "\n",
    "\n",
    "    return found"
   ]
  }
 ],
 "metadata": {
  "kernelspec": {
   "display_name": "Python 3.7.3 64-bit",
   "language": "python",
   "name": "python3"
  },
  "language_info": {
   "name": "python",
   "version": "3.7.3"
  },
  "orig_nbformat": 4,
  "vscode": {
   "interpreter": {
    "hash": "31f2aee4e71d21fbe5cf8b01ff0e069b9275f58929596ceb00d14d90e3e16cd6"
   }
  }
 },
 "nbformat": 4,
 "nbformat_minor": 2
}
