{
 "cells": [
  {
   "cell_type": "markdown",
   "metadata": {},
   "source": [
    "### Map\n",
    "The idea of a dictionary used as hash table to get and retrieve items using keys is often referred to as mapping. \n",
    "We use two python list (arrays)\n",
    "    1. slots => list of hash_value of keys (as in {key: value})\n",
    "    2. data => list of values (as in {key:value}) at position corresponding to their slot\n",
    "    - [\"one\", \"two\", \"three\", None, None] map to [1,2,3, None, None]\n",
    "In our implementation we will have the \n",
    "following methods:\n",
    "- HashTable() => creates a new empty map.\n",
    "- put(key, val) => adds new key-value pair to the map or replaces values of existing keys\n",
    "  - Find where to put the key by hashing the key and rehashing if any collision\n",
    "- get(key) => return the value of a given key or None if the key does not exist.\n",
    "- del => deletes the key-value pair using a statement in the form `del map[key]`\n",
    "- len() => returns the number of key-value pairs stored\n",
    "- in => returns true for a statement of the form `key in map`, if the given key is in the map, False otherwise."
   ]
  },
  {
   "cell_type": "code",
   "execution_count": 2,
   "metadata": {},
   "outputs": [],
   "source": [
    "\n",
    "        return self.put(key, data)"
   ]
  }
 ],
 "metadata": {
  "kernelspec": {
   "display_name": "Python 3.9.12 ('base')",
   "language": "python",
   "name": "python3"
  },
  "language_info": {
   "codemirror_mode": {
    "name": "ipython",
    "version": 3
   },
   "file_extension": ".py",
   "mimetype": "text/x-python",
   "name": "python",
   "nbconvert_exporter": "python",
   "pygments_lexer": "ipython3",
   "version": "3.9.12"
  },
  "orig_nbformat": 4,
  "vscode": {
   "interpreter": {
    "hash": "6cc30744784fa59e98c2446a18129d422b4ed16f8f5f16febffe27c54501bb6f"
   }
  }
 },
 "nbformat": 4,
 "nbformat_minor": 2
}
