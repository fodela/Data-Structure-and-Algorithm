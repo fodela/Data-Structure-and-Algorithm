{
 "cells": [
  {
   "cell_type": "code",
   "execution_count": 12,
   "metadata": {},
   "outputs": [],
   "source": [
    "from typing import List\n",
    "\n",
    "\n",
    "def select_sort_asc(arr: List[int]) -> List[int]:\n",
    "    # e.g -> for i in [5,4,3,2,1]\n",
    "    for fillslot in range(len(arr)-1, 0, -1):\n",
    "\n",
    "        #set the first unsorted element as the maximum\n",
    "        position_of_min = 0\n",
    "\n",
    "        # for each of the unsorted elements\n",
    "        for location in range(1,fillslot + 1):\n",
    "            # if element < current_mininmum\n",
    "            if arr[location] > arr[position_of_min]:\n",
    "                # set element as the new minimum\n",
    "                position_of_min = location\n",
    "        # At the end of the pass, swap the first unsorted element with the element at the minimum location\n",
    "        arr[fillslot], arr[position_of_min] = arr[position_of_min], arr[fillslot]\n",
    "\n",
    "    return arr"
   ]
  },
  {
   "cell_type": "code",
   "execution_count": 13,
   "metadata": {},
   "outputs": [
    {
     "name": "stdout",
     "output_type": "stream",
     "text": [
      "[5, 8, 3, 1, 10]\n",
      "[5, 1, 3, 8, 10]\n",
      "[3, 1, 5, 8, 10]\n",
      "[1, 3, 5, 8, 10]\n",
      "[1, 3, 5, 8, 10]\n"
     ]
    }
   ],
   "source": [
    "arr = [5,8,3,10,1]\n",
    "print(select_sort_asc(arr))"
   ]
  },
  {
   "cell_type": "code",
   "execution_count": 16,
   "metadata": {},
   "outputs": [],
   "source": [
    "def select_sort_desc(arr: List[int]) -> List[int]:\n",
    "    for fillslot in range(len(arr)-1, 0, -1):\n",
    "        # make the first unsorted the max\n",
    "        position_of_max = 0\n",
    "\n",
    "        for location in range(1, fillslot+1):\n",
    "            if arr[location] < arr[position_of_max]:\n",
    "                position_of_max = location\n",
    "\n",
    "        arr[position_of_max], arr[fillslot] = arr[fillslot], arr[position_of_max]\n",
    "\n",
    "    return arr\n",
    "        "
   ]
  },
  {
   "cell_type": "code",
   "execution_count": 17,
   "metadata": {},
   "outputs": [
    {
     "data": {
      "text/plain": [
       "[10, 8, 5, 3, 1]"
      ]
     },
     "execution_count": 17,
     "metadata": {},
     "output_type": "execute_result"
    }
   ],
   "source": [
    "select_sort_desc(arr)"
   ]
  }
 ],
 "metadata": {
  "kernelspec": {
   "display_name": "Python 3.9.12 ('base')",
   "language": "python",
   "name": "python3"
  },
  "language_info": {
   "codemirror_mode": {
    "name": "ipython",
    "version": 3
   },
   "file_extension": ".py",
   "mimetype": "text/x-python",
   "name": "python",
   "nbconvert_exporter": "python",
   "pygments_lexer": "ipython3",
   "version": "3.9.12"
  },
  "orig_nbformat": 4,
  "vscode": {
   "interpreter": {
    "hash": "6cc30744784fa59e98c2446a18129d422b4ed16f8f5f16febffe27c54501bb6f"
   }
  }
 },
 "nbformat": 4,
 "nbformat_minor": 2
}
