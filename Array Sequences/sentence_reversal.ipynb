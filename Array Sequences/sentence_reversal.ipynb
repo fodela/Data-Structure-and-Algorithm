{
 "cells": [
  {
   "cell_type": "markdown",
   "metadata": {},
   "source": [
    "### Sentence Reversal with elimination of leading and trailing write spaces"
   ]
  },
  {
   "cell_type": "markdown",
   "metadata": {},
   "source": [
    "Reverse the sentence and remove any leading or trailing write spaces. 'This is the best'\n",
    "Return: 'best the is This'\n",
    "\n",
    "Approach:\n",
    "    - Convert the string to a list\n",
    "    - remove all spaces\n",
    "    - Reverse the list\n",
    "    - Join the string back \n",
    "Algorithm:\n",
    "    - Create the words out of the sentence \n",
    "    - Create a list of the words\n",
    "    - join the list into a sentence but in the reversed direction"
   ]
  },
  {
   "cell_type": "code",
   "execution_count": 27,
   "metadata": {},
   "outputs": [],
   "source": [
    "def sent_reversal_1(s):\n",
    "    return' '.join(reversed(s.split()))\n"
   ]
  },
  {
   "cell_type": "code",
   "execution_count": 39,
   "metadata": {},
   "outputs": [],
   "source": [
    "def sent_reversal_2(s):\n",
    "    return ' '.join(s.split()[::-1])"
   ]
  },
  {
   "cell_type": "code",
   "execution_count": 40,
   "metadata": {},
   "outputs": [
    {
     "data": {
      "text/plain": [
       "'title the is This'"
      ]
     },
     "execution_count": 40,
     "metadata": {},
     "output_type": "execute_result"
    }
   ],
   "source": [
    "sent_reversal_2('   This   is the    title ')"
   ]
  },
  {
   "cell_type": "code",
   "execution_count": 48,
   "metadata": {},
   "outputs": [],
   "source": [
    "def sentence_reverser(s):\n",
    "\n",
    "    spaces = [' ']\n",
    "    words = []\n",
    "    sent_length = len(s)\n",
    "    i = 0\n",
    "\n",
    "    \n",
    "    while i < sent_length:\n",
    "\n",
    "        # find the start of the word thus letter is not a space\n",
    "        if s[i] not in spaces:\n",
    "            start_of_word = i\n",
    "            # find the length of the word. Add 1 to the length until you meet another space\n",
    "            while i < sent_length and s[i] not in spaces:\n",
    "                i += 1\n",
    "            # When the next space is found then use the position of i as the end of the word. Append the word to the list of words\n",
    "            words.append(s[start_of_word:i])\n",
    "        i+=1\n",
    "    # Now that we have all the words in the list, reverse the list, join the words and return the sentence\n",
    "    \n",
    "    return ' '.join(words[::-1])\n",
    "\n",
    "    \n"
   ]
  },
  {
   "cell_type": "code",
   "execution_count": 49,
   "metadata": {},
   "outputs": [
    {
     "data": {
      "text/plain": [
       "'you are how John Hello'"
      ]
     },
     "execution_count": 49,
     "metadata": {},
     "output_type": "execute_result"
    }
   ],
   "source": [
    "sentence_reverser('     Hello John    how are you   ')"
   ]
  },
  {
   "cell_type": "code",
   "execution_count": null,
   "metadata": {},
   "outputs": [],
   "source": []
  }
 ],
 "metadata": {
  "interpreter": {
   "hash": "984cf5f1f49fba841ddeda118ff068b6a0ab1e554f6a9498f29f6e30c3c564f2"
  },
  "kernelspec": {
   "display_name": "Python 3.9.7 ('djangoEnv')",
   "language": "python",
   "name": "python3"
  },
  "language_info": {
   "codemirror_mode": {
    "name": "ipython",
    "version": 3
   },
   "file_extension": ".py",
   "mimetype": "text/x-python",
   "name": "python",
   "nbconvert_exporter": "python",
   "pygments_lexer": "ipython3",
   "version": "3.9.10"
  },
  "orig_nbformat": 4
 },
 "nbformat": 4,
 "nbformat_minor": 2
}
