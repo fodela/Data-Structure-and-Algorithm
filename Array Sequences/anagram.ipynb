{
 "cells": [
  {
   "cell_type": "markdown",
   "metadata": {},
   "source": [
    "# Anagram\n",
    "When two words can be written with the same letters.\n",
    "Hack: \n",
    "    1. Check if number of specific letters are equal in both strings.\n",
    "    2. If two strings are equal to each other once they're sorted then are anagrams\n",
    "    3. In interview we will be asked to manually count the number of letters in each string using hash tables"
   ]
  },
  {
   "cell_type": "code",
   "execution_count": 30,
   "metadata": {},
   "outputs": [],
   "source": [
    "# My solution\n",
    "def anagram(s1,s2):\n",
    "    s1_dict = {}\n",
    "    s2_dict = {}\n",
    "    for i in s1:\n",
    "        if i != \" \":\n",
    "            s1_dict.setdefault(i,0)\n",
    "            s1_dict[i]+=1\n",
    "    for i in s2:\n",
    "        if i != ' ':\n",
    "            s2_dict.setdefault(i,0)\n",
    "            s2_dict[i]+=1\n",
    "    return s1_dict == s2_dict"
   ]
  },
  {
   "cell_type": "code",
   "execution_count": 19,
   "metadata": {},
   "outputs": [],
   "source": [
    "#Lecture Solution\n",
    "def anagram1(s1,s2):\n",
    "# For both strings remove all white spaces and change each string to \n",
    "    s1 = s1.replace(' ','').lower()\n",
    "    s2 = s2.replace(' ','').lower()\n",
    "    return sorted(s1) == sorted(s2)\n"
   ]
  },
  {
   "cell_type": "code",
   "execution_count": 39,
   "metadata": {},
   "outputs": [],
   "source": [
    "def anagram2(s1,s2):\n",
    "    # For both strings remove all white spaces and change each string to \n",
    "    s1 = s1.replace(' ','').lower()\n",
    "    s2 = s2.replace(' ','').lower()\n",
    "    # Edge check\n",
    "    if len(s1) != len(s2):\n",
    "        return False\n",
    "    count = {}\n",
    "    \n",
    "    for letter in s1:\n",
    "        if letter in count:\n",
    "            count[letter]+=1\n",
    "        else:\n",
    "            count[letter] = 1\n",
    "        \n",
    "    for letter in s2:\n",
    "        if letter in count: \n",
    "            count[letter]-=1\n",
    "        else:\n",
    "            count[letter] = 0\n",
    "    for k in count:\n",
    "        if count[k] != 0:\n",
    "            return False\n",
    "    return True"
   ]
  },
  {
   "cell_type": "code",
   "execution_count": 42,
   "metadata": {},
   "outputs": [
    {
     "data": {
      "text/plain": [
       "False"
      ]
     },
     "execution_count": 42,
     "metadata": {},
     "output_type": "execute_result"
    }
   ],
   "source": [
    "anagram2('asbk','kb a')"
   ]
  }
 ],
 "metadata": {
  "interpreter": {
   "hash": "6cc30744784fa59e98c2446a18129d422b4ed16f8f5f16febffe27c54501bb6f"
  },
  "kernelspec": {
   "display_name": "Python 3.9.5 ('base')",
   "language": "python",
   "name": "python3"
  },
  "language_info": {
   "codemirror_mode": {
    "name": "ipython",
    "version": 3
   },
   "file_extension": ".py",
   "mimetype": "text/x-python",
   "name": "python",
   "nbconvert_exporter": "python",
   "pygments_lexer": "ipython3",
   "version": "3.9.10"
  },
  "orig_nbformat": 4
 },
 "nbformat": 4,
 "nbformat_minor": 2
}
