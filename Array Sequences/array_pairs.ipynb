{
 "cells": [
  {
   "cell_type": "markdown",
   "metadata": {},
   "source": [
    "# Array Pairs\n",
    "Find the unique pairs of numbers in array which when summed will give you a specific integer and return the number of pairs.\n",
    "\n",
    "HACK: Use O(N) algorithm "
   ]
  },
  {
   "cell_type": "markdown",
   "metadata": {},
   "source": [
    "1. Do an edge check to ensure the array has at least 2 elements\n",
    "2. Declare two sets, seen and output for tracking purposes\n",
    "3. set target difference thus what + the number in the arr will give us our target integer\n",
    "4. add the number to seen if is not already in seen\n",
    "5. If the number is already seen, then we add a tuple of the min and max between the number and the target to output\n",
    "6. Return or print output\n"
   ]
  },
  {
   "cell_type": "code",
   "execution_count": 46,
   "metadata": {},
   "outputs": [],
   "source": [
    "def pair_sum(arr,k):\n",
    "    if len(arr)<2:\n",
    "        return\n",
    "    seen = set()\n",
    "    output = set()\n",
    "    for num in arr:\n",
    "        target = k-num\n",
    "\n",
    "        if target not in seen:\n",
    "            seen.add(num)\n",
    "        else:\n",
    "            output.add( (min(num,target),max(num,target)))   \n",
    "    print('\\n'.join(map(str,list(output))))\n",
    "    return(len(output))\n",
    "    "
   ]
  },
  {
   "cell_type": "code",
   "execution_count": 48,
   "metadata": {},
   "outputs": [
    {
     "name": "stdout",
     "output_type": "stream",
     "text": [
      "(1, 3)\n",
      "(2, 2)\n"
     ]
    },
    {
     "data": {
      "text/plain": [
       "2"
      ]
     },
     "execution_count": 48,
     "metadata": {},
     "output_type": "execute_result"
    }
   ],
   "source": [
    "pair_sum([1,3,2,2],4)"
   ]
  }
 ],
 "metadata": {
  "interpreter": {
   "hash": "6cc30744784fa59e98c2446a18129d422b4ed16f8f5f16febffe27c54501bb6f"
  },
  "kernelspec": {
   "display_name": "Python 3.9.5 ('base')",
   "language": "python",
   "name": "python3"
  },
  "language_info": {
   "codemirror_mode": {
    "name": "ipython",
    "version": 3
   },
   "file_extension": ".py",
   "mimetype": "text/x-python",
   "name": "python",
   "nbconvert_exporter": "python",
   "pygments_lexer": "ipython3",
   "version": "3.9.10"
  },
  "orig_nbformat": 4
 },
 "nbformat": 4,
 "nbformat_minor": 2
}
